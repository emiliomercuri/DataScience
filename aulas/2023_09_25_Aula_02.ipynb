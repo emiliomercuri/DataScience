{
  "nbformat": 4,
  "nbformat_minor": 0,
  "metadata": {
    "colab": {
      "provenance": [],
      "authorship_tag": "ABX9TyPvSAXzMWwZ2l9pZ6j+46pM",
      "include_colab_link": true
    },
    "kernelspec": {
      "name": "python3",
      "display_name": "Python 3"
    },
    "language_info": {
      "name": "python"
    }
  },
  "cells": [
    {
      "cell_type": "markdown",
      "metadata": {
        "id": "view-in-github",
        "colab_type": "text"
      },
      "source": [
        "<a href=\"https://colab.research.google.com/github/emiliomercuri/ciencia_dados/blob/main/aulas/2023_09_25_Aula_02.ipynb\" target=\"_parent\"><img src=\"https://colab.research.google.com/assets/colab-badge.svg\" alt=\"Open In Colab\"/></a>"
      ]
    },
    {
      "cell_type": "markdown",
      "source": [
        "## Variáveis e Operadores"
      ],
      "metadata": {
        "id": "cHKkIR46aAqf"
      }
    },
    {
      "cell_type": "code",
      "execution_count": null,
      "metadata": {
        "id": "S8ErO2JPZoPd"
      },
      "outputs": [],
      "source": [
        "a = 1"
      ]
    },
    {
      "cell_type": "code",
      "source": [
        "type(a)"
      ],
      "metadata": {
        "colab": {
          "base_uri": "https://localhost:8080/"
        },
        "id": "9fP91Ro0aHQY",
        "outputId": "abb6c22a-35a1-446b-dced-4382441c9910"
      },
      "execution_count": null,
      "outputs": [
        {
          "output_type": "execute_result",
          "data": {
            "text/plain": [
              "int"
            ]
          },
          "metadata": {},
          "execution_count": 2
        }
      ]
    },
    {
      "cell_type": "code",
      "source": [
        "b = 1.1"
      ],
      "metadata": {
        "id": "ZhRwPDJcaMUn"
      },
      "execution_count": null,
      "outputs": []
    },
    {
      "cell_type": "code",
      "source": [
        "type(b)"
      ],
      "metadata": {
        "colab": {
          "base_uri": "https://localhost:8080/"
        },
        "id": "Ri3F2calaPs3",
        "outputId": "e8b43c83-cce2-47ec-de3e-69fc86b8e100"
      },
      "execution_count": null,
      "outputs": [
        {
          "output_type": "execute_result",
          "data": {
            "text/plain": [
              "float"
            ]
          },
          "metadata": {},
          "execution_count": 4
        }
      ]
    },
    {
      "cell_type": "code",
      "source": [
        "c = 1.2 + 2j"
      ],
      "metadata": {
        "id": "Eq0V51luaQ_Y"
      },
      "execution_count": null,
      "outputs": []
    },
    {
      "cell_type": "code",
      "source": [
        "type(c)"
      ],
      "metadata": {
        "colab": {
          "base_uri": "https://localhost:8080/"
        },
        "id": "vv-dwMRxaZDr",
        "outputId": "0d74618b-50f8-448c-fff3-9de5c6830ce5"
      },
      "execution_count": null,
      "outputs": [
        {
          "output_type": "execute_result",
          "data": {
            "text/plain": [
              "complex"
            ]
          },
          "metadata": {},
          "execution_count": 6
        }
      ]
    },
    {
      "cell_type": "markdown",
      "source": [
        "## Regras para nomear Objetos / Variáveis"
      ],
      "metadata": {
        "id": "UDAzGZV4akP0"
      }
    },
    {
      "cell_type": "code",
      "source": [
        "x_1 = 50\n",
        "x_1"
      ],
      "metadata": {
        "colab": {
          "base_uri": "https://localhost:8080/"
        },
        "id": "dJ2u1lk-ab_-",
        "outputId": "b1ba93b1-d83e-4b6b-9d76-0733c6b9b0cb"
      },
      "execution_count": null,
      "outputs": [
        {
          "output_type": "execute_result",
          "data": {
            "text/plain": [
              "50"
            ]
          },
          "metadata": {},
          "execution_count": 7
        }
      ]
    },
    {
      "cell_type": "code",
      "source": [
        "1x = 40"
      ],
      "metadata": {
        "colab": {
          "base_uri": "https://localhost:8080/",
          "height": 141
        },
        "id": "7Rrk27yzavJg",
        "outputId": "43371d1c-0cb0-4800-9050-f1e81aae1118"
      },
      "execution_count": null,
      "outputs": [
        {
          "output_type": "error",
          "ename": "SyntaxError",
          "evalue": "ignored",
          "traceback": [
            "\u001b[0;36m  File \u001b[0;32m\"<ipython-input-8-cb74580076c3>\"\u001b[0;36m, line \u001b[0;32m1\u001b[0m\n\u001b[0;31m    1x = 40\u001b[0m\n\u001b[0m    ^\u001b[0m\n\u001b[0;31mSyntaxError\u001b[0m\u001b[0;31m:\u001b[0m invalid decimal literal\n"
          ]
        }
      ]
    },
    {
      "cell_type": "markdown",
      "source": [
        "## Não se pode usar palavras reservadas como nome de variável\n",
        "\n",
        "\n",
        "*  False      \n",
        "*  class      \n",
        "*  finally    \n",
        "*  is         \n",
        "*  return\n",
        "*  None       \n",
        "*  continue   \n",
        "*  for        \n",
        "*  lambda     \n",
        "*  try\n",
        "*  True       \n",
        "*  def        \n",
        "*  from       \n",
        "*  nonlocal   \n",
        "*  while\n",
        "*  and        \n",
        "*  del        \n",
        "*  global     \n",
        "*  not        \n",
        "*  with\n",
        "*  as         \n",
        "*  elif       \n",
        "*  if         \n",
        "*  or         \n",
        "*  yield\n",
        "*  assert     \n",
        "*  else       \n",
        "*  import     \n",
        "*  pass\n",
        "*  break      \n",
        "*  except     \n",
        "*  in         \n",
        "*  raise"
      ],
      "metadata": {
        "id": "XKnacq7Va3D-"
      }
    },
    {
      "cell_type": "markdown",
      "source": [
        "# Resto da divisão"
      ],
      "metadata": {
        "id": "z3NhNpNjbCsP"
      }
    },
    {
      "cell_type": "code",
      "source": [
        "idade1 = 25\n",
        "idade2 = 35"
      ],
      "metadata": {
        "id": "NGwKiJnvaxI1"
      },
      "execution_count": null,
      "outputs": []
    },
    {
      "cell_type": "code",
      "source": [
        "idade2 % idade1"
      ],
      "metadata": {
        "colab": {
          "base_uri": "https://localhost:8080/"
        },
        "id": "nCCWr7vYbIxJ",
        "outputId": "0ef2bd1d-4a6f-4bf2-9f93-d0395428f869"
      },
      "execution_count": null,
      "outputs": [
        {
          "output_type": "execute_result",
          "data": {
            "text/plain": [
              "10"
            ]
          },
          "metadata": {},
          "execution_count": 10
        }
      ]
    },
    {
      "cell_type": "code",
      "source": [
        "3 % 2"
      ],
      "metadata": {
        "colab": {
          "base_uri": "https://localhost:8080/"
        },
        "id": "pIpEx-f0bMIT",
        "outputId": "8264d5ec-d521-460c-e5a7-de6738139abc"
      },
      "execution_count": null,
      "outputs": [
        {
          "output_type": "execute_result",
          "data": {
            "text/plain": [
              "1"
            ]
          },
          "metadata": {},
          "execution_count": 11
        }
      ]
    },
    {
      "cell_type": "markdown",
      "source": [
        "## Concatenação de variáveis String"
      ],
      "metadata": {
        "id": "rvYSm40FbRnM"
      }
    },
    {
      "cell_type": "code",
      "source": [
        "nome = \"Steve\"\n",
        "sobrenome = \"Jobs\"\n",
        "\n",
        "Nome_completo = nome + ' ' + sobrenome\n",
        "\n",
        "Nome_completo\n"
      ],
      "metadata": {
        "colab": {
          "base_uri": "https://localhost:8080/",
          "height": 35
        },
        "id": "Qj4sYOpVbP7a",
        "outputId": "7487e468-53e2-4dd2-9818-955a8f0a1603"
      },
      "execution_count": null,
      "outputs": [
        {
          "output_type": "execute_result",
          "data": {
            "text/plain": [
              "'Steve Jobs'"
            ],
            "application/vnd.google.colaboratory.intrinsic+json": {
              "type": "string"
            }
          },
          "metadata": {},
          "execution_count": 12
        }
      ]
    },
    {
      "cell_type": "code",
      "source": [
        "a = 1"
      ],
      "metadata": {
        "id": "HeMWRfdyb6vh"
      },
      "execution_count": null,
      "outputs": []
    },
    {
      "cell_type": "code",
      "source": [
        "nome + a"
      ],
      "metadata": {
        "colab": {
          "base_uri": "https://localhost:8080/",
          "height": 176
        },
        "id": "1DjlfBnabusI",
        "outputId": "b08afb65-97a3-4ac7-d99e-a5c227f1b0cf"
      },
      "execution_count": null,
      "outputs": [
        {
          "output_type": "error",
          "ename": "TypeError",
          "evalue": "ignored",
          "traceback": [
            "\u001b[0;31m---------------------------------------------------------------------------\u001b[0m",
            "\u001b[0;31mTypeError\u001b[0m                                 Traceback (most recent call last)",
            "\u001b[0;32m<ipython-input-14-a70451871ae8>\u001b[0m in \u001b[0;36m<cell line: 1>\u001b[0;34m()\u001b[0m\n\u001b[0;32m----> 1\u001b[0;31m \u001b[0mnome\u001b[0m \u001b[0;34m+\u001b[0m \u001b[0ma\u001b[0m\u001b[0;34m\u001b[0m\u001b[0;34m\u001b[0m\u001b[0m\n\u001b[0m",
            "\u001b[0;31mTypeError\u001b[0m: can only concatenate str (not \"int\") to str"
          ]
        }
      ]
    },
    {
      "cell_type": "code",
      "source": [
        "a + a"
      ],
      "metadata": {
        "colab": {
          "base_uri": "https://localhost:8080/"
        },
        "id": "ClDLfgx4b9l1",
        "outputId": "852e83e4-4e3e-4a3f-a23f-25833260e42f"
      },
      "execution_count": null,
      "outputs": [
        {
          "output_type": "execute_result",
          "data": {
            "text/plain": [
              "2"
            ]
          },
          "metadata": {},
          "execution_count": 15
        }
      ]
    },
    {
      "cell_type": "markdown",
      "source": [
        "# Coleções em Python = Listas, Tuplas e Dicionários"
      ],
      "metadata": {
        "id": "J0jbSa0JcKX_"
      }
    },
    {
      "cell_type": "markdown",
      "source": [
        "## Listas"
      ],
      "metadata": {
        "id": "b9gM_q0ScUCv"
      }
    },
    {
      "cell_type": "code",
      "source": [
        "programadores = ['Alexandre', 'Juliana', 'Rafael', 'Aline']\n",
        "print(type(programadores))\n",
        "print(len(programadores))\n",
        "print(programadores[3])"
      ],
      "metadata": {
        "colab": {
          "base_uri": "https://localhost:8080/"
        },
        "id": "hEMZzU-EcH4M",
        "outputId": "7d2fa219-3068-43d0-916f-f2d5cbcf0ab4"
      },
      "execution_count": null,
      "outputs": [
        {
          "output_type": "stream",
          "name": "stdout",
          "text": [
            "<class 'list'>\n",
            "4\n",
            "Aline\n"
          ]
        }
      ]
    },
    {
      "cell_type": "code",
      "source": [
        "programadores[1] = 'Tarcisio'"
      ],
      "metadata": {
        "id": "sWV_3H4Ucy7F"
      },
      "execution_count": null,
      "outputs": []
    },
    {
      "cell_type": "code",
      "source": [
        "programadores"
      ],
      "metadata": {
        "colab": {
          "base_uri": "https://localhost:8080/"
        },
        "id": "CiIPAWjedGU2",
        "outputId": "ca4403e5-9d52-4ece-da7f-ea36267cb560"
      },
      "execution_count": null,
      "outputs": [
        {
          "output_type": "execute_result",
          "data": {
            "text/plain": [
              "['Alexandre', 'Tarcisio', 'Rafael', 'Aline']"
            ]
          },
          "metadata": {},
          "execution_count": 18
        }
      ]
    },
    {
      "cell_type": "code",
      "source": [
        "programadores.append('Juliana')\n",
        "programadores"
      ],
      "metadata": {
        "colab": {
          "base_uri": "https://localhost:8080/"
        },
        "id": "nk5OKOLWdHnM",
        "outputId": "81dd8ce1-d2f8-4c47-a169-9997e9703cf0"
      },
      "execution_count": null,
      "outputs": [
        {
          "output_type": "execute_result",
          "data": {
            "text/plain": [
              "['Alexandre', 'Tarcisio', 'Rafael', 'Aline', 'Juliana']"
            ]
          },
          "metadata": {},
          "execution_count": 19
        }
      ]
    },
    {
      "cell_type": "code",
      "source": [
        "programadores.insert(1,'João')"
      ],
      "metadata": {
        "id": "fosSOYiCdRqk"
      },
      "execution_count": null,
      "outputs": []
    },
    {
      "cell_type": "code",
      "source": [
        "programadores"
      ],
      "metadata": {
        "colab": {
          "base_uri": "https://localhost:8080/"
        },
        "id": "pbCkDPs1dbDE",
        "outputId": "63e7b1a0-ead7-40f6-e3fd-0397facb17b8"
      },
      "execution_count": null,
      "outputs": [
        {
          "output_type": "execute_result",
          "data": {
            "text/plain": [
              "['Alexandre', 'João', 'Tarcisio', 'Rafael', 'Aline', 'Juliana']"
            ]
          },
          "metadata": {},
          "execution_count": 21
        }
      ]
    },
    {
      "cell_type": "code",
      "source": [
        "programadores.remove('João')"
      ],
      "metadata": {
        "id": "jwjuA_nldcev"
      },
      "execution_count": null,
      "outputs": []
    },
    {
      "cell_type": "code",
      "source": [
        "programadores"
      ],
      "metadata": {
        "colab": {
          "base_uri": "https://localhost:8080/"
        },
        "id": "5WdSPBNidjs7",
        "outputId": "1521f74e-0c1f-4e7f-ea7c-0c958ae0ea96"
      },
      "execution_count": null,
      "outputs": [
        {
          "output_type": "execute_result",
          "data": {
            "text/plain": [
              "['Alexandre', 'Tarcisio', 'Rafael', 'Aline', 'Juliana']"
            ]
          },
          "metadata": {},
          "execution_count": 23
        }
      ]
    },
    {
      "cell_type": "code",
      "source": [
        "programadores.pop(0)\n",
        "programadores"
      ],
      "metadata": {
        "colab": {
          "base_uri": "https://localhost:8080/"
        },
        "id": "R-LYK8IBdk2K",
        "outputId": "3a37eef6-63c4-4979-e41c-a826cf0ee08b"
      },
      "execution_count": null,
      "outputs": [
        {
          "output_type": "execute_result",
          "data": {
            "text/plain": [
              "['Tarcisio', 'Rafael', 'Aline', 'Juliana']"
            ]
          },
          "metadata": {},
          "execution_count": 24
        }
      ]
    },
    {
      "cell_type": "code",
      "source": [
        "programadores.pop(5)"
      ],
      "metadata": {
        "colab": {
          "base_uri": "https://localhost:8080/",
          "height": 176
        },
        "id": "TsXDyYGBdraK",
        "outputId": "86eb585a-0129-4901-db34-0999574d8830"
      },
      "execution_count": null,
      "outputs": [
        {
          "output_type": "error",
          "ename": "IndexError",
          "evalue": "ignored",
          "traceback": [
            "\u001b[0;31m---------------------------------------------------------------------------\u001b[0m",
            "\u001b[0;31mIndexError\u001b[0m                                Traceback (most recent call last)",
            "\u001b[0;32m<ipython-input-25-392b8dcec9bf>\u001b[0m in \u001b[0;36m<cell line: 1>\u001b[0;34m()\u001b[0m\n\u001b[0;32m----> 1\u001b[0;31m \u001b[0mprogramadores\u001b[0m\u001b[0;34m.\u001b[0m\u001b[0mpop\u001b[0m\u001b[0;34m(\u001b[0m\u001b[0;36m5\u001b[0m\u001b[0;34m)\u001b[0m\u001b[0;34m\u001b[0m\u001b[0;34m\u001b[0m\u001b[0m\n\u001b[0m",
            "\u001b[0;31mIndexError\u001b[0m: pop index out of range"
          ]
        }
      ]
    },
    {
      "cell_type": "code",
      "source": [
        "aluno = ['Murilo', 19, 1.79]\n",
        "type(aluno)"
      ],
      "metadata": {
        "colab": {
          "base_uri": "https://localhost:8080/"
        },
        "id": "g9lAXxpYdxo4",
        "outputId": "df805b8d-788e-4d88-c452-ae829e2f1bbe"
      },
      "execution_count": null,
      "outputs": [
        {
          "output_type": "execute_result",
          "data": {
            "text/plain": [
              "list"
            ]
          },
          "metadata": {},
          "execution_count": 26
        }
      ]
    },
    {
      "cell_type": "code",
      "source": [
        "aluno"
      ],
      "metadata": {
        "colab": {
          "base_uri": "https://localhost:8080/"
        },
        "id": "5KWxA9UReDMJ",
        "outputId": "0222db8c-5f66-4477-abd5-7229a6a6ce3c"
      },
      "execution_count": null,
      "outputs": [
        {
          "output_type": "execute_result",
          "data": {
            "text/plain": [
              "['Murilo', 19, 1.79]"
            ]
          },
          "metadata": {},
          "execution_count": 27
        }
      ]
    },
    {
      "cell_type": "markdown",
      "source": [
        "# Tuplas"
      ],
      "metadata": {
        "id": "UVeMWczJeMl0"
      }
    },
    {
      "cell_type": "code",
      "source": [
        "times_rj = ('Botafogo', 'Flamengo', 'Fluminense', 'Vasco')\n",
        "print(times_rj)\n",
        "print(type(times_rj))"
      ],
      "metadata": {
        "colab": {
          "base_uri": "https://localhost:8080/"
        },
        "id": "8FYSWFs-eFw-",
        "outputId": "6d4d3640-7f44-489e-8675-98a22ec70c5e"
      },
      "execution_count": null,
      "outputs": [
        {
          "output_type": "stream",
          "name": "stdout",
          "text": [
            "('Botafogo', 'Flamengo', 'Fluminense', 'Vasco')\n",
            "<class 'tuple'>\n"
          ]
        }
      ]
    },
    {
      "cell_type": "code",
      "source": [
        "times_rj[2]"
      ],
      "metadata": {
        "colab": {
          "base_uri": "https://localhost:8080/",
          "height": 35
        },
        "id": "vXR3xnPBeiI1",
        "outputId": "5c358ac7-d5f8-42ed-bbb4-611df9726a4f"
      },
      "execution_count": null,
      "outputs": [
        {
          "output_type": "execute_result",
          "data": {
            "text/plain": [
              "'Fluminense'"
            ],
            "application/vnd.google.colaboratory.intrinsic+json": {
              "type": "string"
            }
          },
          "metadata": {},
          "execution_count": 29
        }
      ]
    },
    {
      "cell_type": "code",
      "source": [
        "objeto_string = ('tesoura')\n",
        "objeto_tupla = ('tesoura',)\n",
        "print(type(objeto_string), type(objeto_tupla))"
      ],
      "metadata": {
        "colab": {
          "base_uri": "https://localhost:8080/"
        },
        "id": "FvNaHnMyepyM",
        "outputId": "14dbf237-8c92-407d-a893-c490bcf4b854"
      },
      "execution_count": null,
      "outputs": [
        {
          "output_type": "stream",
          "name": "stdout",
          "text": [
            "<class 'str'> <class 'tuple'>\n"
          ]
        }
      ]
    },
    {
      "cell_type": "code",
      "source": [
        "vogais = ('a','e','i','o','u')\n",
        "vogais[1]"
      ],
      "metadata": {
        "colab": {
          "base_uri": "https://localhost:8080/",
          "height": 35
        },
        "id": "aOK4Qxxke-vk",
        "outputId": "5f878066-7af7-4af2-b815-ae3a1404d95b"
      },
      "execution_count": null,
      "outputs": [
        {
          "output_type": "execute_result",
          "data": {
            "text/plain": [
              "'e'"
            ],
            "application/vnd.google.colaboratory.intrinsic+json": {
              "type": "string"
            }
          },
          "metadata": {},
          "execution_count": 32
        }
      ]
    },
    {
      "cell_type": "code",
      "source": [
        "vogais[1] = 'E'"
      ],
      "metadata": {
        "colab": {
          "base_uri": "https://localhost:8080/",
          "height": 176
        },
        "id": "uWC0ZKLCfIau",
        "outputId": "ecbe096b-9909-4ed2-9ca5-398fdcd7cd81"
      },
      "execution_count": null,
      "outputs": [
        {
          "output_type": "error",
          "ename": "TypeError",
          "evalue": "ignored",
          "traceback": [
            "\u001b[0;31m---------------------------------------------------------------------------\u001b[0m",
            "\u001b[0;31mTypeError\u001b[0m                                 Traceback (most recent call last)",
            "\u001b[0;32m<ipython-input-33-8d62a37e41e2>\u001b[0m in \u001b[0;36m<cell line: 1>\u001b[0;34m()\u001b[0m\n\u001b[0;32m----> 1\u001b[0;31m \u001b[0mvogais\u001b[0m\u001b[0;34m[\u001b[0m\u001b[0;36m1\u001b[0m\u001b[0;34m]\u001b[0m \u001b[0;34m=\u001b[0m \u001b[0;34m'E'\u001b[0m\u001b[0;34m\u001b[0m\u001b[0;34m\u001b[0m\u001b[0m\n\u001b[0m",
            "\u001b[0;31mTypeError\u001b[0m: 'tuple' object does not support item assignment"
          ]
        }
      ]
    },
    {
      "cell_type": "code",
      "source": [
        "exemplo_tupla = ('a',1,1.2)"
      ],
      "metadata": {
        "id": "brmmqt8-fWQa"
      },
      "execution_count": null,
      "outputs": []
    },
    {
      "cell_type": "code",
      "source": [
        "exemplo_tupla"
      ],
      "metadata": {
        "colab": {
          "base_uri": "https://localhost:8080/"
        },
        "id": "HO5AtAu2fhlt",
        "outputId": "87b9dadd-b8ca-4974-8843-37bd1f7afbde"
      },
      "execution_count": null,
      "outputs": [
        {
          "output_type": "execute_result",
          "data": {
            "text/plain": [
              "('a', 1, 1.2)"
            ]
          },
          "metadata": {},
          "execution_count": 35
        }
      ]
    },
    {
      "cell_type": "markdown",
      "source": [
        "# Dicionários"
      ],
      "metadata": {
        "id": "2tE5NdDKfmQ3"
      }
    },
    {
      "cell_type": "code",
      "source": [
        "dados_cliente = {\n",
        "    'Nome': 'Renan',\n",
        "    'Endereço': 'Rua Cruzeiro do Sul',\n",
        "    'Telefone': '99999999'\n",
        "}"
      ],
      "metadata": {
        "id": "LY7NOxNAfjga"
      },
      "execution_count": null,
      "outputs": []
    },
    {
      "cell_type": "code",
      "source": [
        "type(dados_cliente)"
      ],
      "metadata": {
        "colab": {
          "base_uri": "https://localhost:8080/"
        },
        "id": "5dbZjFSGf9XB",
        "outputId": "a9763cf0-136f-43b4-fe1e-4f909954f8e1"
      },
      "execution_count": null,
      "outputs": [
        {
          "output_type": "execute_result",
          "data": {
            "text/plain": [
              "dict"
            ]
          },
          "metadata": {},
          "execution_count": 37
        }
      ]
    },
    {
      "cell_type": "code",
      "source": [
        "dados_cliente['Idade'] = 40\n",
        "dados_cliente"
      ],
      "metadata": {
        "colab": {
          "base_uri": "https://localhost:8080/"
        },
        "id": "2Ff5ElGFgAch",
        "outputId": "57ee7a63-9ba3-4ee2-b20f-91e8177890ff"
      },
      "execution_count": null,
      "outputs": [
        {
          "output_type": "execute_result",
          "data": {
            "text/plain": [
              "{'Nome': 'Renan',\n",
              " 'Endereço': 'Rua Cruzeiro do Sul',\n",
              " 'Telefone': '99999999',\n",
              " 'Idade': 40}"
            ]
          },
          "metadata": {},
          "execution_count": 38
        }
      ]
    },
    {
      "cell_type": "code",
      "source": [
        "dados_cliente.pop('Telefone',None)"
      ],
      "metadata": {
        "colab": {
          "base_uri": "https://localhost:8080/",
          "height": 35
        },
        "id": "kNjehyuQgTUD",
        "outputId": "df55d584-ca56-47dd-8570-419514f5f66a"
      },
      "execution_count": null,
      "outputs": [
        {
          "output_type": "execute_result",
          "data": {
            "text/plain": [
              "'99999999'"
            ],
            "application/vnd.google.colaboratory.intrinsic+json": {
              "type": "string"
            }
          },
          "metadata": {},
          "execution_count": 39
        }
      ]
    },
    {
      "cell_type": "code",
      "source": [
        "dados_cliente"
      ],
      "metadata": {
        "colab": {
          "base_uri": "https://localhost:8080/"
        },
        "id": "y8TNpYZhgbjc",
        "outputId": "7b05bbd0-a633-4839-fd22-29dbaf1d25d2"
      },
      "execution_count": null,
      "outputs": [
        {
          "output_type": "execute_result",
          "data": {
            "text/plain": [
              "{'Nome': 'Renan', 'Endereço': 'Rua Cruzeiro do Sul', 'Idade': 40}"
            ]
          },
          "metadata": {},
          "execution_count": 40
        }
      ]
    },
    {
      "cell_type": "code",
      "source": [
        "dados_cliente.pop('Telefone',None)"
      ],
      "metadata": {
        "id": "tOaORWtTgely"
      },
      "execution_count": null,
      "outputs": []
    },
    {
      "cell_type": "code",
      "source": [
        "del dados_cliente['Endereço']"
      ],
      "metadata": {
        "id": "6UtDXz9VgjLm"
      },
      "execution_count": null,
      "outputs": []
    },
    {
      "cell_type": "code",
      "source": [
        "dados_cliente"
      ],
      "metadata": {
        "colab": {
          "base_uri": "https://localhost:8080/"
        },
        "id": "vKMAGdE2gwgc",
        "outputId": "4252f6f5-0dcb-4c8e-9e4a-5b639cb6d8e0"
      },
      "execution_count": null,
      "outputs": [
        {
          "output_type": "execute_result",
          "data": {
            "text/plain": [
              "{'Nome': 'Renan', 'Idade': 40}"
            ]
          },
          "metadata": {},
          "execution_count": 45
        }
      ]
    },
    {
      "cell_type": "markdown",
      "source": [],
      "metadata": {
        "id": "vggBRh0dhBN7"
      }
    },
    {
      "cell_type": "code",
      "source": [
        "dados_cliente['Nome']"
      ],
      "metadata": {
        "colab": {
          "base_uri": "https://localhost:8080/",
          "height": 35
        },
        "id": "LQQ7EgWxgxxb",
        "outputId": "940f6347-a337-4c72-f494-ec42cfc52301"
      },
      "execution_count": null,
      "outputs": [
        {
          "output_type": "execute_result",
          "data": {
            "text/plain": [
              "'Renan'"
            ],
            "application/vnd.google.colaboratory.intrinsic+json": {
              "type": "string"
            }
          },
          "metadata": {},
          "execution_count": 46
        }
      ]
    },
    {
      "cell_type": "markdown",
      "source": [
        "# Funções para coleções"
      ],
      "metadata": {
        "id": "Zrz5oiiAhQYy"
      }
    },
    {
      "cell_type": "code",
      "source": [
        "numeros = [15,5, 0, 20, 10]\n",
        "nomes = ['Caio', 'Alex', 'Renata', 'Patrícia', 'Bruno']"
      ],
      "metadata": {
        "id": "idnYKl0ohJIu"
      },
      "execution_count": null,
      "outputs": []
    },
    {
      "cell_type": "markdown",
      "source": [
        "## min() e max()"
      ],
      "metadata": {
        "id": "qbAhksibhi-W"
      }
    },
    {
      "cell_type": "code",
      "source": [
        "min(numeros), max(numeros)"
      ],
      "metadata": {
        "colab": {
          "base_uri": "https://localhost:8080/"
        },
        "id": "mHNdn9xIhe7W",
        "outputId": "c55f6295-c560-4ae7-c78a-ea5497184ced"
      },
      "execution_count": null,
      "outputs": [
        {
          "output_type": "execute_result",
          "data": {
            "text/plain": [
              "(0, 20)"
            ]
          },
          "metadata": {},
          "execution_count": 48
        }
      ]
    },
    {
      "cell_type": "code",
      "source": [
        "min(nomes), max(nomes)"
      ],
      "metadata": {
        "colab": {
          "base_uri": "https://localhost:8080/"
        },
        "id": "GT9OB2DCho-O",
        "outputId": "eb42e72c-7098-4ce1-e547-7e632a3f4d8e"
      },
      "execution_count": null,
      "outputs": [
        {
          "output_type": "execute_result",
          "data": {
            "text/plain": [
              "('Alex', 'Renata')"
            ]
          },
          "metadata": {},
          "execution_count": 49
        }
      ]
    },
    {
      "cell_type": "code",
      "source": [
        "sum(numeros)"
      ],
      "metadata": {
        "colab": {
          "base_uri": "https://localhost:8080/"
        },
        "id": "v5cdOfAlhvXN",
        "outputId": "9f3998f5-0cee-4c16-8f1e-1ac25f4301c7"
      },
      "execution_count": null,
      "outputs": [
        {
          "output_type": "execute_result",
          "data": {
            "text/plain": [
              "50"
            ]
          },
          "metadata": {},
          "execution_count": 50
        }
      ]
    },
    {
      "cell_type": "code",
      "source": [
        "numeros = (15,5, 0, 20, 10)\n",
        "sum(numeros)"
      ],
      "metadata": {
        "colab": {
          "base_uri": "https://localhost:8080/"
        },
        "id": "U-tq-unBh5Mf",
        "outputId": "ce783f9f-3838-4097-df97-5e7fc4f8aee5"
      },
      "execution_count": null,
      "outputs": [
        {
          "output_type": "execute_result",
          "data": {
            "text/plain": [
              "50"
            ]
          },
          "metadata": {},
          "execution_count": 51
        }
      ]
    },
    {
      "cell_type": "code",
      "source": [
        "# length = comprimento\n",
        "len(numeros)"
      ],
      "metadata": {
        "colab": {
          "base_uri": "https://localhost:8080/"
        },
        "id": "r0F-_nhAiFUi",
        "outputId": "bcbad08c-6156-44a9-ea7f-df9f78be7dab"
      },
      "execution_count": null,
      "outputs": [
        {
          "output_type": "execute_result",
          "data": {
            "text/plain": [
              "5"
            ]
          },
          "metadata": {},
          "execution_count": 52
        }
      ]
    },
    {
      "cell_type": "markdown",
      "source": [
        "## Condicional if"
      ],
      "metadata": {
        "id": "0_HCB_w2idA8"
      }
    },
    {
      "cell_type": "code",
      "source": [
        "if 5 > 2:\n",
        "  print('Python funciona')"
      ],
      "metadata": {
        "colab": {
          "base_uri": "https://localhost:8080/"
        },
        "id": "bstVJecMiROy",
        "outputId": "8ff9ace7-1835-4629-8399-038c4440b45e"
      },
      "execution_count": null,
      "outputs": [
        {
          "output_type": "stream",
          "name": "stdout",
          "text": [
            "Python funciona\n"
          ]
        }
      ]
    },
    {
      "cell_type": "code",
      "source": [
        "if 5 < 2:\n",
        "  print('texto 1')\n",
        "else: # caso contrário\n",
        "  print(\"texto 2\")\n"
      ],
      "metadata": {
        "colab": {
          "base_uri": "https://localhost:8080/"
        },
        "id": "JuG-kZnMispi",
        "outputId": "6633d40c-d8bd-4084-bf0e-b35bd89f24c0"
      },
      "execution_count": null,
      "outputs": [
        {
          "output_type": "stream",
          "name": "stdout",
          "text": [
            "texto 2\n"
          ]
        }
      ]
    },
    {
      "cell_type": "code",
      "source": [
        "5 > 2"
      ],
      "metadata": {
        "colab": {
          "base_uri": "https://localhost:8080/"
        },
        "id": "3aq4ASKCi_ev",
        "outputId": "a4ac756d-f96a-4084-b742-402fc07b5618"
      },
      "execution_count": null,
      "outputs": [
        {
          "output_type": "execute_result",
          "data": {
            "text/plain": [
              "True"
            ]
          },
          "metadata": {},
          "execution_count": 55
        }
      ]
    },
    {
      "cell_type": "code",
      "source": [
        "5 < 2"
      ],
      "metadata": {
        "colab": {
          "base_uri": "https://localhost:8080/"
        },
        "id": "KQTzRSLUjIA3",
        "outputId": "2c6dd6ef-6616-48c8-d159-289bf93b0d2f"
      },
      "execution_count": null,
      "outputs": [
        {
          "output_type": "execute_result",
          "data": {
            "text/plain": [
              "False"
            ]
          },
          "metadata": {},
          "execution_count": 57
        }
      ]
    },
    {
      "cell_type": "code",
      "source": [
        "dia = 'quarta'\n",
        "\n",
        "if dia == 'segunda':\n",
        "  print('Hoje teremos aula de Python')\n",
        "elif dia == 'terça': # caso contrário, se\n",
        "  print('Não temos aula')\n",
        "else:\n",
        "  print('ainda temos mais 3 dias úteis na semana')"
      ],
      "metadata": {
        "colab": {
          "base_uri": "https://localhost:8080/"
        },
        "id": "jzK8FxbGjMbi",
        "outputId": "cbf3e359-d579-44e0-f979-b10da026d233"
      },
      "execution_count": null,
      "outputs": [
        {
          "output_type": "stream",
          "name": "stdout",
          "text": [
            "ainda temos mais 3 dias úteis na semana\n"
          ]
        }
      ]
    },
    {
      "cell_type": "markdown",
      "source": [
        "## Looping For"
      ],
      "metadata": {
        "id": "2hozCUs2kN0s"
      }
    },
    {
      "cell_type": "code",
      "source": [
        "tp = (2,3,4)\n",
        "for i in tp:\n",
        "  print(i)"
      ],
      "metadata": {
        "colab": {
          "base_uri": "https://localhost:8080/"
        },
        "id": "Q-8fotZ1j4gV",
        "outputId": "a1db5230-845e-4cbc-e535-4375102a4d7d"
      },
      "execution_count": null,
      "outputs": [
        {
          "output_type": "stream",
          "name": "stdout",
          "text": [
            "2\n",
            "3\n",
            "4\n"
          ]
        }
      ]
    },
    {
      "cell_type": "code",
      "source": [
        "lista_mercado = ['leite', 'frutas', 'carne']\n",
        "for i in lista_mercado:\n",
        "  print(i)"
      ],
      "metadata": {
        "colab": {
          "base_uri": "https://localhost:8080/"
        },
        "id": "5aVWayMWkXsl",
        "outputId": "ec398644-311c-46d3-f7fb-f36510f34f67"
      },
      "execution_count": null,
      "outputs": [
        {
          "output_type": "stream",
          "name": "stdout",
          "text": [
            "leite\n",
            "frutas\n",
            "carne\n"
          ]
        }
      ]
    },
    {
      "cell_type": "code",
      "source": [
        "for contador in range(0,5):\n",
        "  print(contador)"
      ],
      "metadata": {
        "colab": {
          "base_uri": "https://localhost:8080/"
        },
        "id": "LWpwI-bukkOR",
        "outputId": "eefd2124-e364-4400-80ee-5425622c9175"
      },
      "execution_count": null,
      "outputs": [
        {
          "output_type": "stream",
          "name": "stdout",
          "text": [
            "0\n",
            "1\n",
            "2\n",
            "3\n",
            "4\n"
          ]
        }
      ]
    },
    {
      "cell_type": "code",
      "source": [
        "for caractere in 'Python':\n",
        "  print(caractere)"
      ],
      "metadata": {
        "colab": {
          "base_uri": "https://localhost:8080/"
        },
        "id": "jAjhCC2pkvvh",
        "outputId": "83ae46f4-afc2-4416-ab1d-9b094c35253d"
      },
      "execution_count": null,
      "outputs": [
        {
          "output_type": "stream",
          "name": "stdout",
          "text": [
            "P\n",
            "y\n",
            "t\n",
            "h\n",
            "o\n",
            "n\n"
          ]
        }
      ]
    },
    {
      "cell_type": "markdown",
      "source": [
        "# While"
      ],
      "metadata": {
        "id": "Vlpdgz56lMqj"
      }
    },
    {
      "cell_type": "code",
      "source": [
        "contador = 0\n",
        "while contador < 5: # enquanto contador < 5 execute as instruções indentadas\n",
        "  print(contador)\n",
        "  contador += 1 # contador = contador + 1\n",
        "\n",
        "print('saímos do While')"
      ],
      "metadata": {
        "colab": {
          "base_uri": "https://localhost:8080/"
        },
        "id": "N1IEIRZ7k_Ph",
        "outputId": "501a63cf-b479-41a6-9ab9-7684584caefb"
      },
      "execution_count": null,
      "outputs": [
        {
          "output_type": "stream",
          "name": "stdout",
          "text": [
            "0\n",
            "1\n",
            "2\n",
            "3\n",
            "4\n",
            "saímos do While\n"
          ]
        }
      ]
    },
    {
      "cell_type": "code",
      "source": [
        "contador = 0\n",
        "while contador < 5: # enquanto contador < 5 execute as instruções indentadas\n",
        "  print(contador)\n",
        "  contador += 1 # contador = contador + 1\n",
        "else:\n",
        "  contador = 140 + 10j\n",
        "  print('mudamos o tipo da variável contador para complexa')\n",
        "  print(contador,type(contador))"
      ],
      "metadata": {
        "colab": {
          "base_uri": "https://localhost:8080/"
        },
        "id": "yldpWP1WlnSC",
        "outputId": "e0d88c81-ad90-4a3a-a557-41fddbfa75da"
      },
      "execution_count": null,
      "outputs": [
        {
          "output_type": "stream",
          "name": "stdout",
          "text": [
            "0\n",
            "1\n",
            "2\n",
            "3\n",
            "4\n",
            "mudamos o tipo da variável contador para complexa\n",
            "(140+10j) <class 'complex'>\n"
          ]
        }
      ]
    },
    {
      "cell_type": "markdown",
      "source": [
        "# Pass, Break, Continue\n",
        "\n",
        "* Vamos começar com algo relativamente fácil (mas não óbvio). Nada acontece quando a **pass** é executada.\n",
        "\n",
        "* A instrução **break** permite que você deixe um loop **for** ou **while** prematuramente.\n",
        "\n",
        "* A instrução **continue** ignora o restante das instruções dentro de um loop e continua com a próxima iteração. Observe que continue não interrompe o loop como break, mas pula e continua para a próxima iteração."
      ],
      "metadata": {
        "id": "C9yFyNdEnIJp"
      }
    },
    {
      "cell_type": "code",
      "source": [
        "def foo():\n",
        "  pass"
      ],
      "metadata": {
        "id": "kzDtMzv4mjVv"
      },
      "execution_count": null,
      "outputs": []
    },
    {
      "cell_type": "code",
      "source": [
        "foo()"
      ],
      "metadata": {
        "id": "nTmuEx9QnhWi"
      },
      "execution_count": null,
      "outputs": []
    },
    {
      "cell_type": "code",
      "source": [
        "contador = 0\n",
        "while contador < 100:\n",
        "  if contador == 4:\n",
        "    break\n",
        "  else:\n",
        "    pass\n",
        "  print(contador)\n",
        "  contador += 1"
      ],
      "metadata": {
        "colab": {
          "base_uri": "https://localhost:8080/"
        },
        "id": "mNeyB5munkeQ",
        "outputId": "b542e288-b58b-4cd5-f18f-6b21e0ee6195"
      },
      "execution_count": null,
      "outputs": [
        {
          "output_type": "stream",
          "name": "stdout",
          "text": [
            "0\n",
            "1\n",
            "2\n",
            "3\n"
          ]
        }
      ]
    },
    {
      "cell_type": "code",
      "source": [
        "for verificador in 'Python':\n",
        "  if verificador == 'h':\n",
        "    continue\n",
        "  print(verificador)"
      ],
      "metadata": {
        "colab": {
          "base_uri": "https://localhost:8080/"
        },
        "id": "4lsAmYmRoCZ5",
        "outputId": "ff6b53f7-f909-4386-9fe6-a15865885253"
      },
      "execution_count": null,
      "outputs": [
        {
          "output_type": "stream",
          "name": "stdout",
          "text": [
            "P\n",
            "y\n",
            "t\n",
            "o\n",
            "n\n"
          ]
        }
      ]
    },
    {
      "cell_type": "markdown",
      "source": [
        "## Matrizes e Gráficos"
      ],
      "metadata": {
        "id": "7IDYhQDBq2mi"
      }
    },
    {
      "cell_type": "code",
      "source": [
        "import numpy"
      ],
      "metadata": {
        "id": "-RvZXq8RpFwq"
      },
      "execution_count": null,
      "outputs": []
    },
    {
      "cell_type": "code",
      "source": [
        "a = numpy.ones(5)\n",
        "a"
      ],
      "metadata": {
        "colab": {
          "base_uri": "https://localhost:8080/"
        },
        "id": "MBEIdQlOrCO2",
        "outputId": "17d84e85-bb1d-4054-f1b0-e06b479f0ab9"
      },
      "execution_count": null,
      "outputs": [
        {
          "output_type": "execute_result",
          "data": {
            "text/plain": [
              "array([1., 1., 1., 1., 1.])"
            ]
          },
          "metadata": {},
          "execution_count": 80
        }
      ]
    },
    {
      "cell_type": "code",
      "source": [
        "b = [12, 12, 2, 1]\n",
        "type(b)"
      ],
      "metadata": {
        "colab": {
          "base_uri": "https://localhost:8080/"
        },
        "id": "hS0GDazIrICJ",
        "outputId": "d0a8924f-84f1-40c2-a254-cf6fe62d5938"
      },
      "execution_count": null,
      "outputs": [
        {
          "output_type": "execute_result",
          "data": {
            "text/plain": [
              "list"
            ]
          },
          "metadata": {},
          "execution_count": 81
        }
      ]
    },
    {
      "cell_type": "code",
      "source": [
        "b_array = numpy.array(b)"
      ],
      "metadata": {
        "id": "7ZzxVA9brZ_k"
      },
      "execution_count": null,
      "outputs": []
    },
    {
      "cell_type": "code",
      "source": [
        "b_array"
      ],
      "metadata": {
        "colab": {
          "base_uri": "https://localhost:8080/"
        },
        "id": "89kaXA6qreFV",
        "outputId": "da40b9a9-9961-493b-9fc2-534fd226fbc6"
      },
      "execution_count": null,
      "outputs": [
        {
          "output_type": "execute_result",
          "data": {
            "text/plain": [
              "array([12, 12,  2,  1])"
            ]
          },
          "metadata": {},
          "execution_count": 83
        }
      ]
    },
    {
      "cell_type": "code",
      "source": [
        "matriz_2d = numpy.array([[1,2],[3,4]])\n",
        "matriz_2d"
      ],
      "metadata": {
        "colab": {
          "base_uri": "https://localhost:8080/"
        },
        "id": "fQJZh1z9rfiB",
        "outputId": "00fed8d7-72b7-492b-a594-b0ff981294de"
      },
      "execution_count": null,
      "outputs": [
        {
          "output_type": "execute_result",
          "data": {
            "text/plain": [
              "array([[1, 2],\n",
              "       [3, 4]])"
            ]
          },
          "metadata": {},
          "execution_count": 84
        }
      ]
    },
    {
      "cell_type": "code",
      "source": [
        "X = numpy.array([[1,2],[3,4]])\n",
        "Y = numpy.array([[1,-1],[0,1]])"
      ],
      "metadata": {
        "id": "qJeUZiUyrs5W"
      },
      "execution_count": null,
      "outputs": []
    },
    {
      "cell_type": "code",
      "source": [
        "X"
      ],
      "metadata": {
        "colab": {
          "base_uri": "https://localhost:8080/"
        },
        "id": "zdIJTj-zr9za",
        "outputId": "2984b96b-4426-4998-e344-2b3c7b865fda"
      },
      "execution_count": null,
      "outputs": [
        {
          "output_type": "execute_result",
          "data": {
            "text/plain": [
              "array([[1, 2],\n",
              "       [3, 4]])"
            ]
          },
          "metadata": {},
          "execution_count": 87
        }
      ]
    },
    {
      "cell_type": "code",
      "source": [
        "Y"
      ],
      "metadata": {
        "colab": {
          "base_uri": "https://localhost:8080/"
        },
        "id": "ZHdhm2eKr_Cl",
        "outputId": "f7245117-099d-4d64-8f04-4a022312421e"
      },
      "execution_count": null,
      "outputs": [
        {
          "output_type": "execute_result",
          "data": {
            "text/plain": [
              "array([[ 1, -1],\n",
              "       [ 0,  1]])"
            ]
          },
          "metadata": {},
          "execution_count": 88
        }
      ]
    },
    {
      "cell_type": "code",
      "source": [
        "# Multiplicação elemento a elemento\n",
        "X * Y"
      ],
      "metadata": {
        "colab": {
          "base_uri": "https://localhost:8080/"
        },
        "id": "MP9lredRr_6_",
        "outputId": "65bc6d5c-67f4-492c-fff5-2ba8e1561bd9"
      },
      "execution_count": null,
      "outputs": [
        {
          "output_type": "execute_result",
          "data": {
            "text/plain": [
              "array([[ 1, -2],\n",
              "       [ 0,  4]])"
            ]
          },
          "metadata": {},
          "execution_count": 89
        }
      ]
    },
    {
      "cell_type": "code",
      "source": [
        "# Multiplicação de matrizes\n",
        "X @ Y"
      ],
      "metadata": {
        "colab": {
          "base_uri": "https://localhost:8080/"
        },
        "id": "dfVDbJVOsPkL",
        "outputId": "3aa037d2-8383-45c7-b22d-b107a632e200"
      },
      "execution_count": null,
      "outputs": [
        {
          "output_type": "execute_result",
          "data": {
            "text/plain": [
              "array([[1, 1],\n",
              "       [3, 1]])"
            ]
          },
          "metadata": {},
          "execution_count": 90
        }
      ]
    },
    {
      "cell_type": "code",
      "source": [
        "numpy.dot(X,Y)"
      ],
      "metadata": {
        "colab": {
          "base_uri": "https://localhost:8080/"
        },
        "id": "Wzhk0oYxsWLk",
        "outputId": "0eab57d6-7bd7-48a1-a73f-e56f753c1938"
      },
      "execution_count": null,
      "outputs": [
        {
          "output_type": "execute_result",
          "data": {
            "text/plain": [
              "array([[1, 1],\n",
              "       [3, 1]])"
            ]
          },
          "metadata": {},
          "execution_count": 91
        }
      ]
    },
    {
      "cell_type": "code",
      "source": [
        "invX = numpy.linalg.inv(X)\n",
        "invX"
      ],
      "metadata": {
        "colab": {
          "base_uri": "https://localhost:8080/"
        },
        "id": "FCaagjmRscqU",
        "outputId": "f90270b3-d389-4976-d52e-1222d9631782"
      },
      "execution_count": null,
      "outputs": [
        {
          "output_type": "execute_result",
          "data": {
            "text/plain": [
              "array([[-2. ,  1. ],\n",
              "       [ 1.5, -0.5]])"
            ]
          },
          "metadata": {},
          "execution_count": 92
        }
      ]
    },
    {
      "cell_type": "code",
      "source": [
        "Y"
      ],
      "metadata": {
        "colab": {
          "base_uri": "https://localhost:8080/"
        },
        "id": "R1A4gUeasmP6",
        "outputId": "e193649d-0d3d-4858-c328-822e55239651"
      },
      "execution_count": null,
      "outputs": [
        {
          "output_type": "execute_result",
          "data": {
            "text/plain": [
              "array([[ 1, -1],\n",
              "       [ 0,  1]])"
            ]
          },
          "metadata": {},
          "execution_count": 93
        }
      ]
    },
    {
      "cell_type": "code",
      "source": [
        "transposta = numpy.transpose(Y)\n",
        "transposta"
      ],
      "metadata": {
        "colab": {
          "base_uri": "https://localhost:8080/"
        },
        "id": "DvsYmWWIs2oB",
        "outputId": "d0c0645d-b6eb-4fd9-9d91-cf38afd204bb"
      },
      "execution_count": null,
      "outputs": [
        {
          "output_type": "execute_result",
          "data": {
            "text/plain": [
              "array([[ 1,  0],\n",
              "       [-1,  1]])"
            ]
          },
          "metadata": {},
          "execution_count": 95
        }
      ]
    },
    {
      "cell_type": "code",
      "source": [
        "X"
      ],
      "metadata": {
        "colab": {
          "base_uri": "https://localhost:8080/"
        },
        "id": "UqD-7UIXs6I6",
        "outputId": "af9ee1d7-7ff3-49c8-fd52-1f7620a1a1a0"
      },
      "execution_count": null,
      "outputs": [
        {
          "output_type": "execute_result",
          "data": {
            "text/plain": [
              "array([[1, 2],\n",
              "       [3, 4]])"
            ]
          },
          "metadata": {},
          "execution_count": 96
        }
      ]
    },
    {
      "cell_type": "code",
      "source": [
        "X.diagonal()"
      ],
      "metadata": {
        "colab": {
          "base_uri": "https://localhost:8080/"
        },
        "id": "oiVNaRuBs_ST",
        "outputId": "9d33871d-a70f-48ce-8be6-9c7720b7369b"
      },
      "execution_count": null,
      "outputs": [
        {
          "output_type": "execute_result",
          "data": {
            "text/plain": [
              "array([1, 4])"
            ]
          },
          "metadata": {},
          "execution_count": 97
        }
      ]
    },
    {
      "cell_type": "markdown",
      "source": [
        "## Gráficos com Matplotlib"
      ],
      "metadata": {
        "id": "EMi3klPttJ0H"
      }
    },
    {
      "cell_type": "code",
      "source": [
        "from matplotlib import pyplot"
      ],
      "metadata": {
        "id": "73VTIGMqtCFR"
      },
      "execution_count": null,
      "outputs": []
    },
    {
      "cell_type": "code",
      "source": [
        "pyplot?"
      ],
      "metadata": {
        "id": "HXAvhdb4tX8z"
      },
      "execution_count": null,
      "outputs": []
    },
    {
      "cell_type": "code",
      "source": [
        "import numpy as np\n",
        "import matplotlib.pyplot as plt\n",
        "\n",
        "x = np.arange(0, 5, 0.1)\n",
        "y = np.sin(x)\n",
        "plt.plot(x, y)"
      ],
      "metadata": {
        "colab": {
          "base_uri": "https://localhost:8080/",
          "height": 447
        },
        "id": "EOwzP_zitajm",
        "outputId": "5848c51f-d470-4def-dc72-2d4b2f6c82a3"
      },
      "execution_count": null,
      "outputs": [
        {
          "output_type": "execute_result",
          "data": {
            "text/plain": [
              "[<matplotlib.lines.Line2D at 0x7a183ef65060>]"
            ]
          },
          "metadata": {},
          "execution_count": 100
        },
        {
          "output_type": "display_data",
          "data": {
            "text/plain": [
              "<Figure size 640x480 with 1 Axes>"
            ],
            "image/png": "[encoded data removed]"
          },
          "metadata": {}
        }
      ]
    },
    {
      "cell_type": "code",
      "source": [
        "x = np.arange(0, 5, 0.1)\n",
        "x"
      ],
      "metadata": {
        "colab": {
          "base_uri": "https://localhost:8080/"
        },
        "id": "SiOz5vWYuubd",
        "outputId": "c4052b43-010d-499f-b586-e2c0c9a2c2a8"
      },
      "execution_count": null,
      "outputs": [
        {
          "output_type": "execute_result",
          "data": {
            "text/plain": [
              "array([0. , 0.1, 0.2, 0.3, 0.4, 0.5, 0.6, 0.7, 0.8, 0.9, 1. , 1.1, 1.2,\n",
              "       1.3, 1.4, 1.5, 1.6, 1.7, 1.8, 1.9, 2. , 2.1, 2.2, 2.3, 2.4, 2.5,\n",
              "       2.6, 2.7, 2.8, 2.9, 3. , 3.1, 3.2, 3.3, 3.4, 3.5, 3.6, 3.7, 3.8,\n",
              "       3.9, 4. , 4.1, 4.2, 4.3, 4.4, 4.5, 4.6, 4.7, 4.8, 4.9])"
            ]
          },
          "metadata": {},
          "execution_count": 110
        }
      ]
    },
    {
      "cell_type": "code",
      "source": [
        "xarray = numpy.linspace(0,4.9,50)\n",
        "xarray"
      ],
      "metadata": {
        "colab": {
          "base_uri": "https://localhost:8080/"
        },
        "id": "wVZoYyzut5qk",
        "outputId": "dba6d9ac-b758-403f-f666-af57283b7220"
      },
      "execution_count": null,
      "outputs": [
        {
          "output_type": "execute_result",
          "data": {
            "text/plain": [
              "array([0. , 0.1, 0.2, 0.3, 0.4, 0.5, 0.6, 0.7, 0.8, 0.9, 1. , 1.1, 1.2,\n",
              "       1.3, 1.4, 1.5, 1.6, 1.7, 1.8, 1.9, 2. , 2.1, 2.2, 2.3, 2.4, 2.5,\n",
              "       2.6, 2.7, 2.8, 2.9, 3. , 3.1, 3.2, 3.3, 3.4, 3.5, 3.6, 3.7, 3.8,\n",
              "       3.9, 4. , 4.1, 4.2, 4.3, 4.4, 4.5, 4.6, 4.7, 4.8, 4.9])"
            ]
          },
          "metadata": {},
          "execution_count": 114
        }
      ]
    },
    {
      "cell_type": "code",
      "source": [
        "potencia2 = xarray**2\n",
        "potencia3 = xarray**3\n",
        "potencia_meio = xarray**(1/2)"
      ],
      "metadata": {
        "id": "wB_SmJu-uec9"
      },
      "execution_count": null,
      "outputs": []
    },
    {
      "cell_type": "code",
      "source": [
        "pyplot.plot(xarray,potencia2,color='k',linestyle= '-', label = '$x^2$')\n",
        "pyplot.plot(xarray,potencia3,color='k',linestyle= '--', label = '$x^3$')\n",
        "pyplot.plot(xarray,potencia_meio,color='k',linestyle= ':', label = '$\\sqrt{x}$')\n",
        "pyplot.title('Comparação de potências')\n",
        "pyplot.xlabel('x')\n",
        "pyplot.ylabel('y')\n",
        "pyplot.legend(loc='best')"
      ],
      "metadata": {
        "colab": {
          "base_uri": "https://localhost:8080/",
          "height": 489
        },
        "id": "UdNW99-7vqcw",
        "outputId": "a53a990c-0df1-478f-ef48-a768891335e9"
      },
      "execution_count": null,
      "outputs": [
        {
          "output_type": "execute_result",
          "data": {
            "text/plain": [
              "<matplotlib.legend.Legend at 0x7a183cb176a0>"
            ]
          },
          "metadata": {},
          "execution_count": 116
        },
        {
          "output_type": "display_data",
          "data": {
            "text/plain": [
              "<Figure size 640x480 with 1 Axes>"
            ],
            "image/png": "[encoded data removed]"
          },
          "metadata": {}
        }
      ]
    },
    {
      "cell_type": "code",
      "source": [],
      "metadata": {
        "id": "pCsIfz3lvyBc"
      },
      "execution_count": null,
      "outputs": []
    }
  ]
}