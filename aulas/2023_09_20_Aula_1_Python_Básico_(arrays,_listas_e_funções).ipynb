{
  "nbformat": 4,
  "nbformat_minor": 0,
  "metadata": {
    "colab": {
      "provenance": [],
      "authorship_tag": "ABX9TyPnlRB7NFURJzvaOwH6eAuR",
      "include_colab_link": true
    },
    "kernelspec": {
      "name": "python3",
      "display_name": "Python 3"
    },
    "language_info": {
      "name": "python"
    }
  },
  "cells": [
    {
      "cell_type": "markdown",
      "metadata": {
        "id": "view-in-github",
        "colab_type": "text"
      },
      "source": [
        "<a href=\"https://colab.research.google.com/github/emiliomercuri/ciencia_dados/blob/main/aulas/2023_09_20_Aula_1_Python_B%C3%A1sico_(arrays%2C_listas_e_fun%C3%A7%C3%B5es).ipynb\" target=\"_parent\"><img src=\"https://colab.research.google.com/assets/colab-badge.svg\" alt=\"Open In Colab\"/></a>"
      ]
    },
    {
      "cell_type": "markdown",
      "source": [
        "# Aula 1 - Python Básico\n",
        "\n",
        "Nessa aula vamos ver arrays, listas e funções.\n",
        "\n",
        "Nas células de texto você pode escrever usando a linguagem Markdown e Latex $x^2$.\n",
        "\n",
        "$\n",
        "x = \\int\\limits_0^\\infty \\sin x \\, dx\n",
        "$\n",
        "\n",
        "\n",
        "The binomial coefficient, $\\binom{n}{k}$, is defined by the expression:\n",
        "\n",
        "$\n",
        "\\displaystyle \\binom{n}{k} = \\frac{n!}{k!(n-k)!}\n",
        "$\n",
        "\n",
        "## Bibliotecas\n",
        "\n",
        "* numpy\n",
        "* matplotlib"
      ],
      "metadata": {
        "id": "JSkXTA3dpgi6"
      }
    },
    {
      "cell_type": "code",
      "execution_count": 1,
      "metadata": {
        "id": "43felph-o1s9"
      },
      "outputs": [],
      "source": [
        "# importando bibliotecas\n",
        "import numpy"
      ]
    },
    {
      "cell_type": "code",
      "source": [
        "numpy.linspace?"
      ],
      "metadata": {
        "id": "3uRTVhBms2Vz"
      },
      "execution_count": 2,
      "outputs": []
    },
    {
      "cell_type": "code",
      "source": [
        "meuvetor = numpy.linspace(0,10,4)\n",
        "meuvetor"
      ],
      "metadata": {
        "colab": {
          "base_uri": "https://localhost:8080/"
        },
        "id": "H3O1CPzaphnR",
        "outputId": "9b0f80c4-a42c-4684-ddae-741d4249eea4"
      },
      "execution_count": 4,
      "outputs": [
        {
          "output_type": "execute_result",
          "data": {
            "text/plain": [
              "array([ 0.        ,  3.33333333,  6.66666667, 10.        ])"
            ]
          },
          "metadata": {},
          "execution_count": 4
        }
      ]
    },
    {
      "cell_type": "code",
      "source": [
        "# meuvetor = linspace(0,10,4)"
      ],
      "metadata": {
        "id": "Ukda9ciFtG8H"
      },
      "execution_count": 6,
      "outputs": []
    },
    {
      "cell_type": "markdown",
      "source": [
        "## Variáveis\n",
        "\n"
      ],
      "metadata": {
        "id": "VEDCIA26uacu"
      }
    },
    {
      "cell_type": "code",
      "source": [
        "a = 5\n",
        "b = 'cinco'\n",
        "c = 5.0"
      ],
      "metadata": {
        "id": "G3COuhmAt3CN"
      },
      "execution_count": 9,
      "outputs": []
    },
    {
      "cell_type": "code",
      "source": [
        "type(a), type(b), type(c)"
      ],
      "metadata": {
        "colab": {
          "base_uri": "https://localhost:8080/"
        },
        "id": "7XYIdDFIuQR9",
        "outputId": "db7ec50c-09ce-407d-c6d0-c5535eeb1fdb"
      },
      "execution_count": 11,
      "outputs": [
        {
          "output_type": "execute_result",
          "data": {
            "text/plain": [
              "(int, str, float)"
            ]
          },
          "metadata": {},
          "execution_count": 11
        }
      ]
    },
    {
      "cell_type": "code",
      "source": [
        "type(meuvetor)"
      ],
      "metadata": {
        "colab": {
          "base_uri": "https://localhost:8080/"
        },
        "id": "FNo9NSeuvjjE",
        "outputId": "e5b3cf7c-19a9-4ec7-c28a-a80c7cfbc471"
      },
      "execution_count": 13,
      "outputs": [
        {
          "output_type": "execute_result",
          "data": {
            "text/plain": [
              "numpy.ndarray"
            ]
          },
          "metadata": {},
          "execution_count": 13
        }
      ]
    },
    {
      "cell_type": "markdown",
      "source": [
        "## Laços de repetição (Looping)\n",
        "\n",
        "* for\n",
        "* while"
      ],
      "metadata": {
        "id": "pPDa-22GvQPM"
      }
    },
    {
      "cell_type": "code",
      "source": [
        "range?"
      ],
      "metadata": {
        "id": "lhtBmUfnv_9k"
      },
      "execution_count": 14,
      "outputs": []
    },
    {
      "cell_type": "code",
      "source": [
        "# a função range(i,j,n) cria uma sequência de inteiros\n",
        "# iniciando em i e terminando em j-1, com passo n. i,j,n são inteiros\n",
        "# range(j) cria uma sequência de inteiros de zero (automático) até j-1\n",
        "# estrutura for: para i variando no intervalor de zero a 5\n",
        "for i in range(5):\n",
        "  print(i)\n",
        "  print(\"Olá! \\n\")\n",
        "  for j in range(9,11):\n",
        "    print(j)\n",
        "print('Final do loop')"
      ],
      "metadata": {
        "colab": {
          "base_uri": "https://localhost:8080/"
        },
        "id": "un7cT0lHu5CF",
        "outputId": "e31bf432-b5c9-4af8-ba0e-aef1d8a3b21f"
      },
      "execution_count": 20,
      "outputs": [
        {
          "output_type": "stream",
          "name": "stdout",
          "text": [
            "0\n",
            "Olá! \n",
            "\n",
            "9\n",
            "10\n",
            "1\n",
            "Olá! \n",
            "\n",
            "9\n",
            "10\n",
            "2\n",
            "Olá! \n",
            "\n",
            "9\n",
            "10\n",
            "3\n",
            "Olá! \n",
            "\n",
            "9\n",
            "10\n",
            "4\n",
            "Olá! \n",
            "\n",
            "9\n",
            "10\n",
            "Final do loop\n"
          ]
        }
      ]
    },
    {
      "cell_type": "markdown",
      "source": [
        "## Cortando Arrays"
      ],
      "metadata": {
        "id": "SHnfS9YjyyKV"
      }
    },
    {
      "cell_type": "code",
      "source": [
        "u = numpy.array([1,2,3,4,5,6.0])\n",
        "u"
      ],
      "metadata": {
        "colab": {
          "base_uri": "https://localhost:8080/"
        },
        "id": "ScHB-txevfM1",
        "outputId": "68bb448d-5a9d-4992-c0f7-b7a4ca667c84"
      },
      "execution_count": 58,
      "outputs": [
        {
          "output_type": "execute_result",
          "data": {
            "text/plain": [
              "array([1., 2., 3., 4., 5., 6.])"
            ]
          },
          "metadata": {},
          "execution_count": 58
        }
      ]
    },
    {
      "cell_type": "code",
      "source": [
        "# corte do vetor do elemento 0 (inclusivo) até o elemento 3 (exclusivo)\n",
        "u[0:3]"
      ],
      "metadata": {
        "colab": {
          "base_uri": "https://localhost:8080/"
        },
        "id": "MrCAY9GVzCMF",
        "outputId": "5d6eac33-97fd-4e98-cc31-cf48cf4a9de4"
      },
      "execution_count": 60,
      "outputs": [
        {
          "output_type": "execute_result",
          "data": {
            "text/plain": [
              "array([1., 2., 3.])"
            ]
          },
          "metadata": {},
          "execution_count": 60
        }
      ]
    },
    {
      "cell_type": "markdown",
      "source": [
        "# Atribuindo variáveis arrays"
      ],
      "metadata": {
        "id": "JuaiUNH9ziWu"
      }
    },
    {
      "cell_type": "code",
      "source": [
        "z = u.copy()\n",
        "w = u"
      ],
      "metadata": {
        "id": "N0kNgVDnzI2M"
      },
      "execution_count": 61,
      "outputs": []
    },
    {
      "cell_type": "code",
      "source": [
        "z"
      ],
      "metadata": {
        "colab": {
          "base_uri": "https://localhost:8080/"
        },
        "id": "Kp60Ksxuzl-_",
        "outputId": "ccb78a03-8e75-41d2-9100-08b81fa2ad24"
      },
      "execution_count": 62,
      "outputs": [
        {
          "output_type": "execute_result",
          "data": {
            "text/plain": [
              "array([1., 2., 3., 4., 5., 6.])"
            ]
          },
          "metadata": {},
          "execution_count": 62
        }
      ]
    },
    {
      "cell_type": "code",
      "source": [
        "u[3] = 4.3"
      ],
      "metadata": {
        "id": "rklPaliRzrgk"
      },
      "execution_count": 63,
      "outputs": []
    },
    {
      "cell_type": "code",
      "source": [
        "u"
      ],
      "metadata": {
        "colab": {
          "base_uri": "https://localhost:8080/"
        },
        "id": "FbU4ZQDszv-4",
        "outputId": "f40365ae-079f-4524-b9f2-d723e64f6a9a"
      },
      "execution_count": 64,
      "outputs": [
        {
          "output_type": "execute_result",
          "data": {
            "text/plain": [
              "array([1. , 2. , 3. , 4.3, 5. , 6. ])"
            ]
          },
          "metadata": {},
          "execution_count": 64
        }
      ]
    },
    {
      "cell_type": "code",
      "source": [
        "z"
      ],
      "metadata": {
        "colab": {
          "base_uri": "https://localhost:8080/"
        },
        "id": "xwGgZW_Izws7",
        "outputId": "4ee7c936-b184-4371-9d01-e662a89e4e48"
      },
      "execution_count": 65,
      "outputs": [
        {
          "output_type": "execute_result",
          "data": {
            "text/plain": [
              "array([1., 2., 3., 4., 5., 6.])"
            ]
          },
          "metadata": {},
          "execution_count": 65
        }
      ]
    },
    {
      "cell_type": "code",
      "source": [
        "w"
      ],
      "metadata": {
        "colab": {
          "base_uri": "https://localhost:8080/"
        },
        "id": "KY8_vqNLz0x0",
        "outputId": "72ba617f-4eb5-4891-ff34-896e22ad2439"
      },
      "execution_count": 66,
      "outputs": [
        {
          "output_type": "execute_result",
          "data": {
            "text/plain": [
              "array([1. , 2. , 3. , 4.3, 5. , 6. ])"
            ]
          },
          "metadata": {},
          "execution_count": 66
        }
      ]
    },
    {
      "cell_type": "markdown",
      "source": [
        "# Listas e Arrays"
      ],
      "metadata": {
        "id": "NaJ849BL1Q1q"
      }
    },
    {
      "cell_type": "code",
      "source": [
        "# uma lista é criada usando []\n",
        "a = [1, 2, 3]\n",
        "a"
      ],
      "metadata": {
        "colab": {
          "base_uri": "https://localhost:8080/"
        },
        "id": "SLpneMl11AMf",
        "outputId": "98ec1afd-03fe-46f6-9ea9-c75976045262"
      },
      "execution_count": 67,
      "outputs": [
        {
          "output_type": "execute_result",
          "data": {
            "text/plain": [
              "[1, 2, 3]"
            ]
          },
          "metadata": {},
          "execution_count": 67
        }
      ]
    },
    {
      "cell_type": "code",
      "source": [
        "a + a"
      ],
      "metadata": {
        "colab": {
          "base_uri": "https://localhost:8080/"
        },
        "id": "_LRFy8K81llL",
        "outputId": "d1788411-4ca0-4f81-b4dc-7ef3f081849b"
      },
      "execution_count": 68,
      "outputs": [
        {
          "output_type": "execute_result",
          "data": {
            "text/plain": [
              "[1, 2, 3, 1, 2, 3]"
            ]
          },
          "metadata": {},
          "execution_count": 68
        }
      ]
    },
    {
      "cell_type": "code",
      "source": [
        "b = numpy.array(a)\n",
        "b"
      ],
      "metadata": {
        "colab": {
          "base_uri": "https://localhost:8080/"
        },
        "id": "Iv0UOldR1pDK",
        "outputId": "b3eee9e3-e97e-4409-b198-f3027f0292bc"
      },
      "execution_count": 69,
      "outputs": [
        {
          "output_type": "execute_result",
          "data": {
            "text/plain": [
              "array([1, 2, 3])"
            ]
          },
          "metadata": {},
          "execution_count": 69
        }
      ]
    },
    {
      "cell_type": "code",
      "source": [
        "b + b"
      ],
      "metadata": {
        "colab": {
          "base_uri": "https://localhost:8080/"
        },
        "id": "VQwV2dAb11_v",
        "outputId": "c2273f21-2362-46c2-f94a-4ecfbfa6a3d4"
      },
      "execution_count": 70,
      "outputs": [
        {
          "output_type": "execute_result",
          "data": {
            "text/plain": [
              "array([2, 4, 6])"
            ]
          },
          "metadata": {},
          "execution_count": 70
        }
      ]
    },
    {
      "cell_type": "code",
      "source": [
        "b + 1"
      ],
      "metadata": {
        "colab": {
          "base_uri": "https://localhost:8080/"
        },
        "id": "CP-xneGA14A_",
        "outputId": "ea9a9434-b5dc-4310-8836-4b32615f047a"
      },
      "execution_count": 71,
      "outputs": [
        {
          "output_type": "execute_result",
          "data": {
            "text/plain": [
              "array([2, 3, 4])"
            ]
          },
          "metadata": {},
          "execution_count": 71
        }
      ]
    },
    {
      "cell_type": "code",
      "source": [
        "numpy.sin(b)"
      ],
      "metadata": {
        "colab": {
          "base_uri": "https://localhost:8080/"
        },
        "id": "PVfQESwM2CCe",
        "outputId": "b3e57aca-ab72-4818-d746-f93b7a910d8e"
      },
      "execution_count": 73,
      "outputs": [
        {
          "output_type": "execute_result",
          "data": {
            "text/plain": [
              "array([0.84147098, 0.90929743, 0.14112001])"
            ]
          },
          "metadata": {},
          "execution_count": 73
        }
      ]
    },
    {
      "cell_type": "code",
      "source": [
        "b**2"
      ],
      "metadata": {
        "colab": {
          "base_uri": "https://localhost:8080/"
        },
        "id": "tXpUcwXI2F6d",
        "outputId": "48a3b269-ba9c-4e00-8399-8f62f68bc8aa"
      },
      "execution_count": 74,
      "outputs": [
        {
          "output_type": "execute_result",
          "data": {
            "text/plain": [
              "array([1, 4, 9])"
            ]
          },
          "metadata": {},
          "execution_count": 74
        }
      ]
    },
    {
      "cell_type": "code",
      "source": [
        "a + [1]"
      ],
      "metadata": {
        "colab": {
          "base_uri": "https://localhost:8080/"
        },
        "id": "rSUUiGbe2MHu",
        "outputId": "b8074650-9b06-4f1e-8bf0-5144d80ca1c2"
      },
      "execution_count": 76,
      "outputs": [
        {
          "output_type": "execute_result",
          "data": {
            "text/plain": [
              "[1, 2, 3, 1]"
            ]
          },
          "metadata": {},
          "execution_count": 76
        }
      ]
    },
    {
      "cell_type": "code",
      "source": [
        "lista_generica = [1, 'al', 2.5]\n",
        "lista_generica + [1]"
      ],
      "metadata": {
        "colab": {
          "base_uri": "https://localhost:8080/"
        },
        "id": "mIO85Mxz2SIs",
        "outputId": "2a8065e9-6ad7-4d2c-835c-a22cdd882f9b"
      },
      "execution_count": 79,
      "outputs": [
        {
          "output_type": "execute_result",
          "data": {
            "text/plain": [
              "[1, 'al', 2.5, 1]"
            ]
          },
          "metadata": {},
          "execution_count": 79
        }
      ]
    },
    {
      "cell_type": "code",
      "source": [
        "a, b"
      ],
      "metadata": {
        "colab": {
          "base_uri": "https://localhost:8080/"
        },
        "id": "Y0W0NJvv26m-",
        "outputId": "51197baf-ef8f-4c57-eb8d-f96b460fc6c0"
      },
      "execution_count": 82,
      "outputs": [
        {
          "output_type": "execute_result",
          "data": {
            "text/plain": [
              "([1, 2, 3], array([1, 2, 3]))"
            ]
          },
          "metadata": {},
          "execution_count": 82
        }
      ]
    },
    {
      "cell_type": "code",
      "source": [
        "aa = [x + y for x,y in zip(a,a)]\n",
        "aa"
      ],
      "metadata": {
        "colab": {
          "base_uri": "https://localhost:8080/"
        },
        "id": "oApULRXd2hDs",
        "outputId": "b2f0affd-b905-41d6-b88a-b036124b23fd"
      },
      "execution_count": 81,
      "outputs": [
        {
          "output_type": "execute_result",
          "data": {
            "text/plain": [
              "[2, 4, 6]"
            ]
          },
          "metadata": {},
          "execution_count": 81
        }
      ]
    },
    {
      "cell_type": "code",
      "source": [
        "b + b"
      ],
      "metadata": {
        "colab": {
          "base_uri": "https://localhost:8080/"
        },
        "id": "Iu9MWgxZ23qg",
        "outputId": "5b1d1970-1f1d-4c33-fce4-7def0289a7b3"
      },
      "execution_count": 83,
      "outputs": [
        {
          "output_type": "execute_result",
          "data": {
            "text/plain": [
              "array([2, 4, 6])"
            ]
          },
          "metadata": {},
          "execution_count": 83
        }
      ]
    },
    {
      "cell_type": "code",
      "source": [
        "timeit aa = [x + y for x,y in zip(a,a)]"
      ],
      "metadata": {
        "colab": {
          "base_uri": "https://localhost:8080/"
        },
        "id": "ik1WucyD2-Uw",
        "outputId": "e1c824e2-b4a7-45c1-e917-5c77a9a1734c"
      },
      "execution_count": 87,
      "outputs": [
        {
          "output_type": "stream",
          "name": "stdout",
          "text": [
            "769 ns ± 246 ns per loop (mean ± std. dev. of 7 runs, 1000000 loops each)\n"
          ]
        }
      ]
    },
    {
      "cell_type": "code",
      "source": [
        "timeit bb = b+b"
      ],
      "metadata": {
        "colab": {
          "base_uri": "https://localhost:8080/"
        },
        "id": "LQfUhnCV3Iei",
        "outputId": "b672596e-bbdc-498d-a37c-6d5e31510d03"
      },
      "execution_count": 88,
      "outputs": [
        {
          "output_type": "stream",
          "name": "stdout",
          "text": [
            "587 ns ± 14.4 ns per loop (mean ± std. dev. of 7 runs, 1000000 loops each)\n"
          ]
        }
      ]
    },
    {
      "cell_type": "markdown",
      "source": [
        "## Definindo funções em Python\n",
        "\n",
        "Para definir funções você vai precisar:\n",
        "\n",
        "* nome\n",
        "* eventuais parâmetros\n",
        "* instruções\n",
        "* retorno da função"
      ],
      "metadata": {
        "id": "7oUmFcFW3mK9"
      }
    },
    {
      "cell_type": "code",
      "source": [
        "def saudacao(x):\n",
        "  return 'Bom dia ' + x + '. Como vai você?'"
      ],
      "metadata": {
        "id": "w9T4Qpj-3L8m"
      },
      "execution_count": 91,
      "outputs": []
    },
    {
      "cell_type": "code",
      "source": [
        "saudacao('Juliana')"
      ],
      "metadata": {
        "colab": {
          "base_uri": "https://localhost:8080/",
          "height": 35
        },
        "id": "zuW51TbE38gB",
        "outputId": "b3224ded-e4a6-4f42-9f37-885ce4e5d3d2"
      },
      "execution_count": 92,
      "outputs": [
        {
          "output_type": "execute_result",
          "data": {
            "text/plain": [
              "'Bom dia Juliana. Como vai você?'"
            ],
            "application/vnd.google.colaboratory.intrinsic+json": {
              "type": "string"
            }
          },
          "metadata": {},
          "execution_count": 92
        }
      ]
    },
    {
      "cell_type": "code",
      "source": [
        "saudacao('Renata')"
      ],
      "metadata": {
        "colab": {
          "base_uri": "https://localhost:8080/",
          "height": 35
        },
        "id": "UYtUQOuR3_Cs",
        "outputId": "15703009-f669-43cc-80a6-4aa65e47c1bc"
      },
      "execution_count": 93,
      "outputs": [
        {
          "output_type": "execute_result",
          "data": {
            "text/plain": [
              "'Bom dia Renata. Como vai você?'"
            ],
            "application/vnd.google.colaboratory.intrinsic+json": {
              "type": "string"
            }
          },
          "metadata": {},
          "execution_count": 93
        }
      ]
    },
    {
      "cell_type": "code",
      "source": [
        "def conta(y):\n",
        "  z = y + 2\n",
        "  return z**2\n",
        "print('teste')"
      ],
      "metadata": {
        "colab": {
          "base_uri": "https://localhost:8080/"
        },
        "id": "aXxKK0Hp4ZgD",
        "outputId": "1501f1ef-0f44-453b-a329-a8b7f8653bfb"
      },
      "execution_count": 98,
      "outputs": [
        {
          "output_type": "stream",
          "name": "stdout",
          "text": [
            "teste\n"
          ]
        }
      ]
    },
    {
      "cell_type": "code",
      "source": [
        "conta(1)"
      ],
      "metadata": {
        "colab": {
          "base_uri": "https://localhost:8080/"
        },
        "id": "rdQU9bHa4mSj",
        "outputId": "26b2b2e8-325d-473d-bebf-f4a5da7c3d84"
      },
      "execution_count": 99,
      "outputs": [
        {
          "output_type": "execute_result",
          "data": {
            "text/plain": [
              "9"
            ]
          },
          "metadata": {},
          "execution_count": 99
        }
      ]
    },
    {
      "cell_type": "code",
      "source": [],
      "metadata": {
        "id": "PB2MjWDj4pBL"
      },
      "execution_count": null,
      "outputs": []
    }
  ]
}