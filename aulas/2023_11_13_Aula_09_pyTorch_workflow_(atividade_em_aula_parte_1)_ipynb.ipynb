{
  "nbformat": 4,
  "nbformat_minor": 0,
  "metadata": {
    "colab": {
      "provenance": [],
      "authorship_tag": "ABX9TyPoWJFqAZKSQppYnOlZLQu7",
      "include_colab_link": true
    },
    "kernelspec": {
      "name": "python3",
      "display_name": "Python 3"
    },
    "language_info": {
      "name": "python"
    }
  },
  "cells": [
    {
      "cell_type": "markdown",
      "metadata": {
        "id": "view-in-github",
        "colab_type": "text"
      },
      "source": [
        "<a href=\"https://colab.research.google.com/github/emiliomercuri/ciencia_dados/blob/main/aulas/2023_11_13_Aula_09_pyTorch_workflow_(atividade_em_aula_parte_1)_ipynb.ipynb\" target=\"_parent\"><img src=\"https://colab.research.google.com/assets/colab-badge.svg\" alt=\"Open In Colab\"/></a>"
      ]
    },
    {
      "cell_type": "markdown",
      "source": [
        "# PyTorch Workflow\n",
        "\n"
      ],
      "metadata": {
        "id": "pli0F8nf73LR"
      }
    },
    {
      "cell_type": "code",
      "execution_count": null,
      "metadata": {
        "colab": {
          "base_uri": "https://localhost:8080/"
        },
        "id": "MEUHItr87qV3",
        "outputId": "ccd2e74d-20ef-4689-cdeb-91b8e6493b33"
      },
      "outputs": [
        {
          "output_type": "execute_result",
          "data": {
            "text/plain": [
              "{1: 'dados (preparação e importação)',\n",
              " 2: 'construindo o modelo',\n",
              " 3: 'ajustando o modelo aos dados (treinamento)',\n",
              " 4: 'fazendo predições e avaliando o modelo (inferência)',\n",
              " 5: 'salvando e importando o modelo',\n",
              " 6: 'avaliando os resultados'}"
            ]
          },
          "metadata": {},
          "execution_count": 1
        }
      ],
      "source": [
        "o_que_vamos_cobrir_hoje = {1: \"dados (preparação e importação)\",\n",
        "                           2: \"construindo o modelo\",\n",
        "                           3: \"ajustando o modelo aos dados (treinamento)\",\n",
        "                           4: \"fazendo predições e avaliando o modelo (inferência)\",\n",
        "                           5: \"salvando e importando o modelo\",\n",
        "                           6: \"avaliando os resultados\"}\n",
        "o_que_vamos_cobrir_hoje"
      ]
    },
    {
      "cell_type": "code",
      "source": [
        "import torch\n",
        "from torch import nn ## nn contém os blocos de construção das Redes Neurais Artificiais\n",
        "import matplotlib.pyplot as plt"
      ],
      "metadata": {
        "id": "6fHkwYz3-sDP"
      },
      "execution_count": null,
      "outputs": []
    },
    {
      "cell_type": "markdown",
      "source": [
        "## Documentação sobre Redes Neurais do PyTorch\n",
        "\n",
        "\n",
        "https://pytorch.org/docs/stable/nn.html\n",
        "\n",
        "Uma rede neural é algo como isso (vamos ver mais detalhes pra frente):\n",
        "\n",
        "<img src=\"https://www.dropbox.com/scl/fi/rk25xi2cnsr0pvhc5dc6w/NN.jpg?rlkey=j8iuhazjyk6orrsfbarfnvu1w&dl=1\" width=\"400\">"
      ],
      "metadata": {
        "id": "7Jk1OYJC_JXy"
      }
    },
    {
      "cell_type": "markdown",
      "source": [
        "## 1. Dados (preparação e carregamento)\n",
        "\n",
        "Os dados podem ser quase qualquer coisa... no aprendizado de máquina.\n",
        "\n",
        "* Planilha do Excel\n",
        "* Imagens de qualquer tipo\n",
        "* Vídeos\n",
        "* Áudio\n",
        "*DNA\n",
        "* Texto\n",
        "\n",
        "O aprendizado de máquina é um jogo de duas partes:\n",
        "1. Obtenha os dados em uma representação numérica.\n",
        "2. Construa um modelo para aprender padrões nessa representação numérica\n",
        "\n",
        "Para mostrar isso, vamos criar alguns **dados conhecidos** usando a fórmula de regressão linear\n",
        "\n",
        "$$\n",
        "Y = a + bX\n",
        "$$\n",
        "\n",
        "\n",
        "Usaremos uma fórmula de regressão linear para criar uma linha reta com *parâmetros* **conhecidos**.\n",
        "\n",
        "Os parâmetros são:\n",
        "\n",
        "* a = bias (viés)\n",
        "* b = weight (pesos)\n"
      ],
      "metadata": {
        "id": "fh4XNbw7_2xy"
      }
    },
    {
      "cell_type": "code",
      "source": [
        "# Criando parâmetros conhecidos\n",
        "weight = 0.7\n",
        "bias = 0.3\n",
        "\n",
        "# Criar um data set bem simples\n",
        "start = 0\n",
        "end = 1\n",
        "step = 0.02\n",
        "X = torch.arange(start,end,step).unsqueeze(dim=1) # Adicionando uma dimensão extra\n",
        "y = weight * X + bias\n",
        "\n",
        "X[:10], y[:10]"
      ],
      "metadata": {
        "colab": {
          "base_uri": "https://localhost:8080/"
        },
        "id": "XmosdrCu_GMN",
        "outputId": "c394d218-d8d4-407d-a208-2ab42cf4c03e"
      },
      "execution_count": null,
      "outputs": [
        {
          "output_type": "execute_result",
          "data": {
            "text/plain": [
              "(tensor([[0.0000],\n",
              "         [0.0200],\n",
              "         [0.0400],\n",
              "         [0.0600],\n",
              "         [0.0800],\n",
              "         [0.1000],\n",
              "         [0.1200],\n",
              "         [0.1400],\n",
              "         [0.1600],\n",
              "         [0.1800]]),\n",
              " tensor([[0.3000],\n",
              "         [0.3140],\n",
              "         [0.3280],\n",
              "         [0.3420],\n",
              "         [0.3560],\n",
              "         [0.3700],\n",
              "         [0.3840],\n",
              "         [0.3980],\n",
              "         [0.4120],\n",
              "         [0.4260]]))"
            ]
          },
          "metadata": {},
          "execution_count": 3
        }
      ]
    },
    {
      "cell_type": "code",
      "source": [
        "len(X), len(y)"
      ],
      "metadata": {
        "colab": {
          "base_uri": "https://localhost:8080/"
        },
        "id": "cnRTQeufAqX3",
        "outputId": "0e04e84d-55ce-4ec4-a443-1e06c4be27bd"
      },
      "execution_count": null,
      "outputs": [
        {
          "output_type": "execute_result",
          "data": {
            "text/plain": [
              "(50, 50)"
            ]
          },
          "metadata": {},
          "execution_count": 4
        }
      ]
    },
    {
      "cell_type": "markdown",
      "source": [
        "### Dividir dados em conjuntos de treinamento e teste (um dos conceitos mais importantes em aprendizado de máquina em geral)\n",
        "\n",
        "Vamos criar um conjunto de treinamento e teste com nossos dados"
      ],
      "metadata": {
        "id": "s7WENHx6CHFH"
      }
    },
    {
      "cell_type": "markdown",
      "source": [
        "Cada divisão do conjunto de dados serve a um propósito específico:\n",
        "\n",
        "| Divisão | Finalidade | Quantidade de <br> dados totais | Com que frequência <br> ele é usado? |\n",
        "| :--- | :--- | :--- | :--- |\n",
        "| Conjunto de treinamento | O modelo aprende com <br> esses dados. | $\\sim 60-80 \\%$ | Sempre |\n",
        "| Conjunto de validação | O modelo é ajustado nesses <br> dados  (como o exame simulado <br> que você faz antes do exame final). | $\\sim 10-20 \\%$ | Frequentemente, <br> mas nem sempre |\n",
        "| Conjunto de teste | O modelo é avaliado com base <br> nesses dados para testar <br> o que aprendeu. | $\\sim 10-20 \\%$ | Sempre |\n"
      ],
      "metadata": {
        "id": "ZtlDAoJOCNzU"
      }
    },
    {
      "cell_type": "code",
      "source": [
        "# Crie uma divisão de treinameto/teste dos dados\n",
        "train_split = int(0.8*len(X)) # 80% dos dados\n",
        "X_train, y_train = X[:train_split], y[:train_split]\n",
        "X_test, y_test = X[train_split:], y[train_split:]\n",
        "\n",
        "len(X_train), len(y_train), len(X_test), len(y_test)"
      ],
      "metadata": {
        "colab": {
          "base_uri": "https://localhost:8080/"
        },
        "id": "tT-YNciTArRn",
        "outputId": "fffad7c0-f1a4-47ad-e4c6-a6c061144671"
      },
      "execution_count": null,
      "outputs": [
        {
          "output_type": "execute_result",
          "data": {
            "text/plain": [
              "(40, 40, 10, 10)"
            ]
          },
          "metadata": {},
          "execution_count": 5
        }
      ]
    },
    {
      "cell_type": "code",
      "source": [
        "#X_train, y_train"
      ],
      "metadata": {
        "id": "gqjwPA_zEEWy"
      },
      "execution_count": null,
      "outputs": []
    },
    {
      "cell_type": "markdown",
      "source": [
        "Um método melhor para separação dos dados é usar a função `train_test_split` da biblioteca `scikit-learn`, que adiciona um pouco de aleatoriedade na separação.\n",
        "\n",
        "https://scikit-learn.org/stable/modules/generated/sklearn.model_selection.train_test_split.html"
      ],
      "metadata": {
        "id": "C03U9bjPEVDP"
      }
    },
    {
      "cell_type": "code",
      "source": [
        "tensor_A = torch.randn(2,2)\n",
        "tensor_B = torch.randn(2,2)\n",
        "print(tensor_A)\n",
        "print(tensor_B)\n",
        "print(tensor_A == tensor_B)"
      ],
      "metadata": {
        "colab": {
          "base_uri": "https://localhost:8080/"
        },
        "id": "qvdDBPBKEMet",
        "outputId": "2ca25d4c-3df6-41b5-e579-c78b51e63820"
      },
      "execution_count": null,
      "outputs": [
        {
          "output_type": "stream",
          "name": "stdout",
          "text": [
            "tensor([[-0.5709,  0.8285],\n",
            "        [-0.5754, -0.4108]])\n",
            "tensor([[ 0.3850, -1.6049],\n",
            "        [-0.1724,  0.6406]])\n",
            "tensor([[False, False],\n",
            "        [False, False]])\n"
          ]
        }
      ]
    },
    {
      "cell_type": "code",
      "source": [
        "torch.manual_seed(34)\n",
        "tensor_A = torch.randn(2,2)\n",
        "torch.manual_seed(34)\n",
        "tensor_B = torch.randn(2,2)\n",
        "print(tensor_A)\n",
        "print(tensor_B)\n",
        "print(tensor_A == tensor_B)"
      ],
      "metadata": {
        "colab": {
          "base_uri": "https://localhost:8080/"
        },
        "id": "Nd2Z8etyFJAS",
        "outputId": "4246534d-717b-45cd-f04c-1ba168512f4e"
      },
      "execution_count": null,
      "outputs": [
        {
          "output_type": "stream",
          "name": "stdout",
          "text": [
            "tensor([[ 1.4219, -0.2314],\n",
            "        [ 0.3739, -0.4679]])\n",
            "tensor([[ 1.4219, -0.2314],\n",
            "        [ 0.3739, -0.4679]])\n",
            "tensor([[True, True],\n",
            "        [True, True]])\n"
          ]
        }
      ]
    },
    {
      "cell_type": "markdown",
      "source": [
        "### Como podemos visualizar melhor os nossos dados?\n",
        "\n",
        "Aqui está o nosso primeiro **lema** de exploradores de dados!\n",
        "\n",
        "\"Visualize, visualize, visualize!\""
      ],
      "metadata": {
        "id": "Ne56Vf--G6po"
      }
    },
    {
      "cell_type": "code",
      "source": [
        "def plot_predictions(train_data=X_train,\n",
        "                     train_labels=y_train,\n",
        "                     test_data=X_test,\n",
        "                     test_labels=y_test,\n",
        "                     predictions=None):\n",
        "  \"\"\"\n",
        "  Faz um gráfico dos dados de treinamento, teste e compara as predições\n",
        "  \"\"\"\n",
        "  plt.figure(figsize=(5,3))\n",
        "  # Plot training data in blue\n",
        "  plt.scatter(train_data, train_labels, c='b', s=4,label=\"Training data\")\n",
        "  # Plot test data in green\n",
        "  plt.scatter(test_data, test_labels, c='g', s=4, label=\"Testing data\")\n",
        "  # Are there predictions?\n",
        "  if predictions is not None:\n",
        "    # Plot predictions if they exist (in red)\n",
        "    plt.scatter(test_data, predictions, c='r', s=4, label=\"Predictions\")\n",
        "  # Show the legend\n",
        "  plt.legend(prop={\"size\":10})"
      ],
      "metadata": {
        "id": "SKgWAWCCGLPK"
      },
      "execution_count": null,
      "outputs": []
    },
    {
      "cell_type": "code",
      "source": [
        "plot_predictions()"
      ],
      "metadata": {
        "colab": {
          "base_uri": "https://localhost:8080/",
          "height": 291
        },
        "id": "O3RqZymOI2PF",
        "outputId": "83829dfe-a50f-4de3-c25d-1290432d2a8f"
      },
      "execution_count": null,
      "outputs": [
        {
          "output_type": "display_data",
          "data": {
            "text/plain": [
              "<Figure size 500x300 with 1 Axes>"
            ],
            "image/png": "[encoded data removed]"
          },
          "metadata": {}
        }
      ]
    },
    {
      "cell_type": "markdown",
      "source": [
        "## 2. Construindo o modelo\n",
        "\n",
        "Nosso primeiro modelo em PyTorch!\n",
        "\n",
        "Para isso iremos criar classes em Python, o que não havíamos usado antes, para mais informações sugiro a leitura do seguinte material:\n",
        "https://realpython.com/python3-object-oriented-programming/\n",
        "\n",
        "Esse link explica o que é Object-oriented programming (OOP).\n",
        "\n",
        "O que o nosso modelo faz:\n",
        "* Começa com valores aleatórios (weight & bias)\n",
        "* Le os dados de treinamento e ajusta os valores aleatórios para melhor representar (ou chegar o mais próximo possível) dos valores ideais (weight and bias) que usamos para criar os dados.\n",
        "\n",
        "Como ele faz isso?\n",
        "\n",
        "Através de dois algoritmos principais:\n",
        "1. Gradient descent ou método do gradiente (https://en.wikipedia.org/wiki/Gradient_descent)\n",
        "2. Backpropagation ou Retropropagação do erro (https://en.wikipedia.org/wiki/Backpropagation)\n",
        "\n",
        "O código `requires_grad=True` aciona o método do gradiente e o modelo atualiza o weight e bias usando retropopagação do erro\n",
        "\n",
        "Videos extra classe:\n",
        "\n",
        "1. Gradient descent: https://www.youtube.com/watch?v=IHZwWFHWa-w\n",
        "2. Backpropagation: https://www.youtube.com/watch?v=Ilg3gGewQ5U&ab"
      ],
      "metadata": {
        "id": "O97c3PboJYFW"
      }
    },
    {
      "cell_type": "code",
      "source": [
        "# Criar uma classe para regressão linear\n",
        "class LinearRegressionModel(nn.Module):\n",
        "  def __init__(self):\n",
        "    super().__init__()\n",
        "\n",
        "    # Iniciar os parâmetros do modelo\n",
        "    self.weights = nn.Parameter(torch.randn(1,\n",
        "                                            requires_grad=True,\n",
        "                                            dtype=torch.float))\n",
        "\n",
        "    self.bias = nn.Parameter(torch.randn(1,\n",
        "                                        requires_grad=True,\n",
        "                                         dtype=torch.float))\n",
        "\n",
        "  # Método para o cálculo sequencial do modelo\n",
        "  def forward(self, x: torch.Tensor) -> torch.Tensor:\n",
        "    return self.weights * x + self.bias"
      ],
      "metadata": {
        "id": "k6J22n9yJE-K"
      },
      "execution_count": null,
      "outputs": []
    },
    {
      "cell_type": "markdown",
      "source": [
        "## PyTorch model building blocks essentiais\n",
        "\n",
        "* torch.nn - contem todos os blocos de contrução de grafos (redes reurais artificiais)\n",
        "* torch.nn.Parameter - quais parâmetros deve o nosso modelo aprender\n",
        "* torch.nn.Module - Uma classe para todas os módulos de redes neurais, se você usar uma subclasse você deverá reescrever forward()\n",
        "* torch.optim - ondem estão todos os otimizadres do PyTorch\n",
        "* def forward() - todas subclasses nn.Module requerem que você reescreva forward()\n",
        "\n",
        "Mais informações de módulos essenciais via PyTorch cheatsheet: https://pytorch.org/tutorials/beginner/ptcheat.html"
      ],
      "metadata": {
        "id": "-3qXRtl0PvMI"
      }
    },
    {
      "cell_type": "markdown",
      "source": [
        "## Checando o conteúdo do nosso modelo PyTorch\n",
        "\n",
        "Agora que criamos o modelo, vamos ver o que temos dentro dele...\n",
        "\n",
        "Podemos checar os parâmetros do nosso modelo usando `.parameters()`"
      ],
      "metadata": {
        "id": "FQm9KOBbt3wH"
      }
    },
    {
      "cell_type": "code",
      "source": [
        "# Criando uma semente aleatória\n",
        "torch.manual_seed(42)\n",
        "\n",
        "# Criando uma instância do modelo\n",
        "model_0 = LinearRegressionModel()\n",
        "\n",
        "# Checando os parâmetros\n",
        "list(model_0.parameters())"
      ],
      "metadata": {
        "id": "DUkZY2dFPfUC",
        "colab": {
          "base_uri": "https://localhost:8080/"
        },
        "outputId": "c2033601-5382-4831-a14e-46919e49d400"
      },
      "execution_count": null,
      "outputs": [
        {
          "output_type": "execute_result",
          "data": {
            "text/plain": [
              "[Parameter containing:\n",
              " tensor([0.3367], requires_grad=True),\n",
              " Parameter containing:\n",
              " tensor([0.1288], requires_grad=True)]"
            ]
          },
          "metadata": {},
          "execution_count": 17
        }
      ]
    },
    {
      "cell_type": "code",
      "source": [
        "torch.randn(1)"
      ],
      "metadata": {
        "colab": {
          "base_uri": "https://localhost:8080/"
        },
        "id": "bQqWm8l4ubuS",
        "outputId": "7b5bf836-7976-414a-b91c-9f69d17772da"
      },
      "execution_count": null,
      "outputs": [
        {
          "output_type": "execute_result",
          "data": {
            "text/plain": [
              "tensor([0.2345])"
            ]
          },
          "metadata": {},
          "execution_count": 18
        }
      ]
    },
    {
      "cell_type": "code",
      "source": [
        "# lista named parameters\n",
        "model_0.state_dict()"
      ],
      "metadata": {
        "colab": {
          "base_uri": "https://localhost:8080/"
        },
        "id": "wbL4lNX8uj3m",
        "outputId": "fc1b6cea-f8ff-47ec-d477-9362fff0542e"
      },
      "execution_count": null,
      "outputs": [
        {
          "output_type": "execute_result",
          "data": {
            "text/plain": [
              "OrderedDict([('weights', tensor([0.3367])), ('bias', tensor([0.1288]))])"
            ]
          },
          "metadata": {},
          "execution_count": 19
        }
      ]
    },
    {
      "cell_type": "code",
      "source": [
        "# Queremos que o nosso modelo reproduza os valores iniciais que usamos\n",
        "# para criar os dados\n",
        "weight, bias"
      ],
      "metadata": {
        "colab": {
          "base_uri": "https://localhost:8080/"
        },
        "id": "F0MYu-EOu6lJ",
        "outputId": "8ebcaa76-90ea-4bac-978a-6242310d9888"
      },
      "execution_count": null,
      "outputs": [
        {
          "output_type": "execute_result",
          "data": {
            "text/plain": [
              "(0.7, 0.3)"
            ]
          },
          "metadata": {},
          "execution_count": 20
        }
      ]
    },
    {
      "cell_type": "markdown",
      "source": [
        "## Fazendo predições usando `torch.inference_mode()`\n",
        "\n",
        "Parar verificar o poder preditivo do nosso modelo, vamos ver quão bom ele prediz `y_test` baseado em `X_test`.\n",
        "\n",
        "Quando informamos (alimentamos) dados ao nosso modelo, ele irá rodar através do método `forward()`"
      ],
      "metadata": {
        "id": "v01LllAxvWiq"
      }
    },
    {
      "cell_type": "code",
      "source": [
        "# Fazer predições com o modelo\n",
        "with torch.inference_mode():\n",
        "  y_preds = model_0(X_test)\n",
        "\n",
        "y_preds"
      ],
      "metadata": {
        "colab": {
          "base_uri": "https://localhost:8080/"
        },
        "id": "tbcwkqt6vNRe",
        "outputId": "09277b68-434b-4fbd-e3a4-f0dfa57d86bd"
      },
      "execution_count": null,
      "outputs": [
        {
          "output_type": "execute_result",
          "data": {
            "text/plain": [
              "tensor([[0.3982],\n",
              "        [0.4049],\n",
              "        [0.4116],\n",
              "        [0.4184],\n",
              "        [0.4251],\n",
              "        [0.4318],\n",
              "        [0.4386],\n",
              "        [0.4453],\n",
              "        [0.4520],\n",
              "        [0.4588]])"
            ]
          },
          "metadata": {},
          "execution_count": 21
        }
      ]
    },
    {
      "cell_type": "code",
      "source": [
        "# Vamos visualizar esse primeiro resultado\n",
        "plot_predictions(predictions=y_preds)"
      ],
      "metadata": {
        "colab": {
          "base_uri": "https://localhost:8080/",
          "height": 291
        },
        "id": "8g5-o8LCv7in",
        "outputId": "2e699728-4c7d-4249-f033-7bf55b91f76e"
      },
      "execution_count": null,
      "outputs": [
        {
          "output_type": "display_data",
          "data": {
            "text/plain": [
              "<Figure size 500x300 with 1 Axes>"
            ],
            "image/png": "[encoded data removed]"
          },
          "metadata": {}
        }
      ]
    },
    {
      "cell_type": "markdown",
      "source": [
        "## 3. Treinar o modelo\n",
        "\n",
        "A ideia geral do treinamento é fazer com que o modelo parta de parâmetros inicias desconhecidos (que podem ser aleatórios) até ser calibrado com parâmetros conhecidos.\n",
        "\n",
        "Em outras palavras, o modelo vai partir de uma representação pobre dos dados para uma representação melhor.\n",
        "\n",
        "Uma maneira de medir o quão ruim ou errado o nosso modelo está é usar uma função de perda ou função de custo (Loss function).\n",
        "\n",
        "O que precisamos fazer para realizar o treinamento:\n",
        "\n",
        "* **Loss Function**: mede o quão bom o nosso modelo está em relação às saídas ideis\n",
        "* **Optimizer**: leva em conta o custo ou perda e ajusta os parâmetros do modelo (weights e bias).\n",
        "\n",
        " * Dentro do optimizer você precisará definir dois parâmetros:\n",
        "  * `params` - os parâmetros do modelo que você quer otimizar.\n",
        "  * `lr` (learning rate) - a taxa de aprendizado (hiperparâmetro)\n",
        "\n"
      ],
      "metadata": {
        "id": "5BGKgtehwkyK"
      }
    },
    {
      "cell_type": "code",
      "source": [
        "model_0.state_dict()"
      ],
      "metadata": {
        "colab": {
          "base_uri": "https://localhost:8080/"
        },
        "id": "T0dubyJdwXLq",
        "outputId": "8d8f0530-f507-48d5-b30c-6468c96a64c5"
      },
      "execution_count": null,
      "outputs": [
        {
          "output_type": "execute_result",
          "data": {
            "text/plain": [
              "OrderedDict([('weights', tensor([0.3367])), ('bias', tensor([0.1288]))])"
            ]
          },
          "metadata": {},
          "execution_count": 23
        }
      ]
    },
    {
      "cell_type": "markdown",
      "source": [
        "Vamos usar a função `L1Loss` que é igual ao MAE (Mean Absolute Error)"
      ],
      "metadata": {
        "id": "6_2cpw-RyAHq"
      }
    },
    {
      "cell_type": "code",
      "source": [
        "# Setup a loss function\n",
        "loss_fn = nn.L1Loss()\n",
        "\n",
        "# Setup an optimizer (stochastic gradient descent - SGD)\n",
        "optimizer = torch.optim.SGD(params = model_0.parameters(),\n",
        "                            lr = 0.01)\n",
        "\n",
        "# A função do otimizador é fornecer valores para a o modelo de aprendizado\n",
        "# de máquina (aumentar ou diminuir pesos e bias) que minimizem a função perda"
      ],
      "metadata": {
        "id": "Z-MYAZBJx96y"
      },
      "execution_count": null,
      "outputs": []
    },
    {
      "cell_type": "markdown",
      "source": [
        "## Construindo um loop de Treinamento (e Teste) em PyTorch\n",
        "\n",
        "Algumas coisas que precisamos para o loop de treinamento:\n",
        "\n",
        "* 0. Loop para percorrer os dados e fazer o seguinte:\n",
        "* 1. Forward pass: isso involve passar os dados na função `forward()` do nosso modelo para fazer predições\n",
        "* 2. Calcular a perda (Loss Funtion)\n",
        "* 3. Optimizer zero grad\n",
        "* 4. Loss backward - retropropagar através do Modelo para calcular os gradientes de cada parâmetro (**backpropagation**)\n",
        "* 5. Optimizer step - usar o otimizados para ajustar os parâmetros do nosso modelo e tentar reduzir a função perda/custo (**gradient descent**)"
      ],
      "metadata": {
        "id": "Kc4BRt4-zDe_"
      }
    },
    {
      "cell_type": "code",
      "source": [
        "# Uma época é um loop passando todos os dados através do MML\n",
        "epochs = 10\n",
        "\n",
        "### Training\n",
        "# 0. Loop para passar os dados\n",
        "for epoch in range(epochs):\n",
        "  # configurar o modelo para o modo treinamento\n",
        "  model_0.train()\n",
        "\n",
        "  # 1. Forward pass\n",
        "  y_pred = model_0(X_train)\n",
        "\n",
        "  # 2. Calculate the Loss\n",
        "  loss = loss_fn(y_pred,y_train)\n",
        "  print(f\"Loss: {loss}\")\n",
        "\n",
        "  # 3. Optimizer zero grad\n",
        "  optimizer.zero_grad()\n",
        "\n",
        "  # 4. Perform backpropagation\n",
        "  loss.backward()\n",
        "\n",
        "  # 5. Step the optimizer\n",
        "  optimizer.step() # calcula o passo do otimizador\n",
        "\n",
        "  ### Testing\n",
        "  model_0.eval() # desabilita o gradient descent\n",
        "\n",
        "  # Print o state_dict()\n",
        "  print(model_0.state_dict())\n"
      ],
      "metadata": {
        "colab": {
          "base_uri": "https://localhost:8080/"
        },
        "id": "D1LtHuvGzAIj",
        "outputId": "a3d9dcd1-2d49-4e87-f16d-b5edbff79d5a"
      },
      "execution_count": null,
      "outputs": [
        {
          "output_type": "stream",
          "name": "stdout",
          "text": [
            "Loss: 0.3013603389263153\n",
            "OrderedDict([('weights', tensor([0.3445])), ('bias', tensor([0.1488]))])\n",
            "Loss: 0.28983935713768005\n",
            "OrderedDict([('weights', tensor([0.3484])), ('bias', tensor([0.1588]))])\n",
            "Loss: 0.2783183455467224\n",
            "OrderedDict([('weights', tensor([0.3523])), ('bias', tensor([0.1688]))])\n",
            "Loss: 0.26679736375808716\n",
            "OrderedDict([('weights', tensor([0.3562])), ('bias', tensor([0.1788]))])\n",
            "Loss: 0.2552763521671295\n",
            "OrderedDict([('weights', tensor([0.3601])), ('bias', tensor([0.1888]))])\n",
            "Loss: 0.24375534057617188\n",
            "OrderedDict([('weights', tensor([0.3640])), ('bias', tensor([0.1988]))])\n",
            "Loss: 0.23223432898521423\n",
            "OrderedDict([('weights', tensor([0.3679])), ('bias', tensor([0.2088]))])\n",
            "Loss: 0.22071333229541779\n",
            "OrderedDict([('weights', tensor([0.3718])), ('bias', tensor([0.2188]))])\n",
            "Loss: 0.20919232070446014\n",
            "OrderedDict([('weights', tensor([0.3757])), ('bias', tensor([0.2288]))])\n",
            "Loss: 0.1976713240146637\n",
            "OrderedDict([('weights', tensor([0.3796])), ('bias', tensor([0.2388]))])\n"
          ]
        }
      ]
    },
    {
      "cell_type": "code",
      "source": [
        "plot_predictions(predictions=y_preds)"
      ],
      "metadata": {
        "colab": {
          "base_uri": "https://localhost:8080/",
          "height": 291
        },
        "id": "j6pPRRQa1h07",
        "outputId": "fe451c30-f171-4bce-8a8c-84b9b973d640"
      },
      "execution_count": null,
      "outputs": [
        {
          "output_type": "display_data",
          "data": {
            "text/plain": [
              "<Figure size 500x300 with 1 Axes>"
            ],
            "image/png": "[encoded data removed]"
          },
          "metadata": {}
        }
      ]
    },
    {
      "cell_type": "code",
      "source": [
        "with torch.inference_mode():\n",
        "  y_preds_new = model_0(X_test)"
      ],
      "metadata": {
        "id": "3kFZe-qJ11Gn"
      },
      "execution_count": null,
      "outputs": []
    },
    {
      "cell_type": "code",
      "source": [
        "plot_predictions(predictions=y_preds_new)"
      ],
      "metadata": {
        "colab": {
          "base_uri": "https://localhost:8080/",
          "height": 291
        },
        "id": "JSOVp2DU2AoQ",
        "outputId": "8c4ec740-3bbb-4ff8-fd21-bbbc01b36b98"
      },
      "execution_count": null,
      "outputs": [
        {
          "output_type": "display_data",
          "data": {
            "text/plain": [
              "<Figure size 500x300 with 1 Axes>"
            ],
            "image/png": "[encoded data removed]"
          },
          "metadata": {}
        }
      ]
    },
    {
      "cell_type": "markdown",
      "source": [
        "## Refazendo um loop de treinamento (e de teste) para 200 épocas"
      ],
      "metadata": {
        "id": "huknOzJp2Tku"
      }
    },
    {
      "cell_type": "code",
      "source": [
        "# Adicionando uma semente aleatória\n",
        "torch.manual_seed(42)\n",
        "\n",
        "# Uma época é um loop passando todos os dados através do MML\n",
        "epochs = 200\n",
        "\n",
        "# Listas para armazenar os resultados ao longo das épocas de treinamento/teste\n",
        "epoch_count = []\n",
        "train_loss_values = []\n",
        "test_loss_values = []\n",
        "\n",
        "### Training\n",
        "for epoch in range(epochs):\n",
        "  # config the model for training\n",
        "  model_0.train()\n",
        "  # 1. Forward pass\n",
        "  y_pred = model_0(X_train)\n",
        "  # 2. Calculate the loss\n",
        "  loss = loss_fn(y_pred, y_train)\n",
        "  # 3. Optimizer zero grad\n",
        "  optimizer.zero_grad()\n",
        "  # 4. Perform backpropagation\n",
        "  loss.backward()\n",
        "  # 5. Step the optimizer\n",
        "  optimizer.step()\n",
        "\n",
        "  ### Testing\n",
        "  model_0.eval()\n",
        "  with torch.inference_mode():\n",
        "    # 1. Do the forward pass\n",
        "    test_pred = model_0(X_test)\n",
        "    # 2. Calculate the loos\n",
        "    test_loss = loss_fn(test_pred, y_test)\n",
        "\n",
        "  # Print out what's happening\n",
        "  if epoch % 10 == 0:\n",
        "    epoch_count.append(epoch)\n",
        "    train_loss_values.append(loss)\n",
        "    test_loss_values.append(test_loss)\n",
        "    print(f\"Epoch: {epoch} | Loss:{loss} | Test loss: {test_loss}\")\n",
        "    # Print our model state_dict()\n",
        "    print(model_0.state_dict())"
      ],
      "metadata": {
        "colab": {
          "base_uri": "https://localhost:8080/"
        },
        "id": "4S73V1An2CZa",
        "outputId": "5d7ef526-b873-4c0d-d2ce-35342aa2cdf6"
      },
      "execution_count": null,
      "outputs": [
        {
          "output_type": "stream",
          "name": "stdout",
          "text": [
            "Epoch: 0 | Loss:0.1746293306350708 | Test loss: 0.3194132149219513\n",
            "OrderedDict([('weights', tensor([0.3874])), ('bias', tensor([0.2588]))])\n",
            "Epoch: 10 | Loss:0.07638873159885406 | Test loss: 0.19773726165294647\n",
            "OrderedDict([('weights', tensor([0.4258])), ('bias', tensor([0.3463]))])\n",
            "Epoch: 20 | Loss:0.05069301277399063 | Test loss: 0.13647659122943878\n",
            "OrderedDict([('weights', tensor([0.4564])), ('bias', tensor([0.3803]))])\n",
            "Epoch: 30 | Loss:0.04463795945048332 | Test loss: 0.1100495308637619\n",
            "OrderedDict([('weights', tensor([0.4788])), ('bias', tensor([0.3868]))])\n",
            "Epoch: 40 | Loss:0.04098063334822655 | Test loss: 0.09699545800685883\n",
            "OrderedDict([('weights', tensor([0.4974])), ('bias', tensor([0.3833]))])\n",
            "Epoch: 50 | Loss:0.0375034399330616 | Test loss: 0.08666229248046875\n",
            "OrderedDict([('weights', tensor([0.5152])), ('bias', tensor([0.3778]))])\n",
            "Epoch: 60 | Loss:0.03407188132405281 | Test loss: 0.07907666265964508\n",
            "OrderedDict([('weights', tensor([0.5322])), ('bias', tensor([0.3703]))])\n",
            "Epoch: 70 | Loss:0.030638623982667923 | Test loss: 0.07080408930778503\n",
            "OrderedDict([('weights', tensor([0.5493])), ('bias', tensor([0.3633]))])\n",
            "Epoch: 80 | Loss:0.027199819684028625 | Test loss: 0.06253156810998917\n",
            "OrderedDict([('weights', tensor([0.5665])), ('bias', tensor([0.3563]))])\n",
            "Epoch: 90 | Loss:0.02376994863152504 | Test loss: 0.05494590476155281\n",
            "OrderedDict([('weights', tensor([0.5834])), ('bias', tensor([0.3488]))])\n",
            "Epoch: 100 | Loss:0.02033500373363495 | Test loss: 0.046673357486724854\n",
            "OrderedDict([('weights', tensor([0.6006])), ('bias', tensor([0.3418]))])\n",
            "Epoch: 110 | Loss:0.016896454617381096 | Test loss: 0.0390876941382885\n",
            "OrderedDict([('weights', tensor([0.6175])), ('bias', tensor([0.3343]))])\n",
            "Epoch: 120 | Loss:0.013468016870319843 | Test loss: 0.030815154314041138\n",
            "OrderedDict([('weights', tensor([0.6347])), ('bias', tensor([0.3273]))])\n",
            "Epoch: 130 | Loss:0.010031387209892273 | Test loss: 0.022542614489793777\n",
            "OrderedDict([('weights', tensor([0.6519])), ('bias', tensor([0.3203]))])\n",
            "Epoch: 140 | Loss:0.006594526115804911 | Test loss: 0.01495695672929287\n",
            "OrderedDict([('weights', tensor([0.6688])), ('bias', tensor([0.3128]))])\n",
            "Epoch: 150 | Loss:0.0031660839449614286 | Test loss: 0.006684416439384222\n",
            "OrderedDict([('weights', tensor([0.6860])), ('bias', tensor([0.3058]))])\n",
            "Epoch: 160 | Loss:0.008932482451200485 | Test loss: 0.005023092031478882\n",
            "OrderedDict([('weights', tensor([0.6951])), ('bias', tensor([0.2993]))])\n",
            "Epoch: 170 | Loss:0.008932482451200485 | Test loss: 0.005023092031478882\n",
            "OrderedDict([('weights', tensor([0.6951])), ('bias', tensor([0.2993]))])\n",
            "Epoch: 180 | Loss:0.008932482451200485 | Test loss: 0.005023092031478882\n",
            "OrderedDict([('weights', tensor([0.6951])), ('bias', tensor([0.2993]))])\n",
            "Epoch: 190 | Loss:0.008932482451200485 | Test loss: 0.005023092031478882\n",
            "OrderedDict([('weights', tensor([0.6951])), ('bias', tensor([0.2993]))])\n"
          ]
        }
      ]
    },
    {
      "cell_type": "code",
      "source": [
        "with torch.inference_mode():\n",
        "  y_preds_new = model_0(X_test)"
      ],
      "metadata": {
        "id": "CZwQsSRm42aL"
      },
      "execution_count": null,
      "outputs": []
    },
    {
      "cell_type": "code",
      "source": [
        "plot_predictions(predictions=y_preds_new)"
      ],
      "metadata": {
        "colab": {
          "base_uri": "https://localhost:8080/",
          "height": 291
        },
        "id": "r2w9N66e5diY",
        "outputId": "dfcc37a6-77a5-4971-e9f0-f9d177808d80"
      },
      "execution_count": null,
      "outputs": [
        {
          "output_type": "display_data",
          "data": {
            "text/plain": [
              "<Figure size 500x300 with 1 Axes>"
            ],
            "image/png": "[encoded data removed]"
          },
          "metadata": {}
        }
      ]
    },
    {
      "cell_type": "code",
      "source": [
        "torch.tensor(train_loss_values).cpu().numpy()"
      ],
      "metadata": {
        "colab": {
          "base_uri": "https://localhost:8080/"
        },
        "id": "lHqiQqzi6lt6",
        "outputId": "844e2b5a-3ce2-422a-df13-03f69b9d125a"
      },
      "execution_count": null,
      "outputs": [
        {
          "output_type": "execute_result",
          "data": {
            "text/plain": [
              "array([0.17462933, 0.07638873, 0.05069301, 0.04463796, 0.04098063,\n",
              "       0.03750344, 0.03407188, 0.03063862, 0.02719982, 0.02376995,\n",
              "       0.020335  , 0.01689645, 0.01346802, 0.01003139, 0.00659453,\n",
              "       0.00316608, 0.00893248, 0.00893248, 0.00893248, 0.00893248],\n",
              "      dtype=float32)"
            ]
          },
          "metadata": {},
          "execution_count": 43
        }
      ]
    },
    {
      "cell_type": "code",
      "source": [
        "# Plot the loss curves\n",
        "plt.plot(epoch_count, torch.tensor(train_loss_values).cpu().numpy(), label='Train loss')\n",
        "plt.plot(epoch_count, torch.tensor(test_loss_values).cpu().numpy(), label='Test loss')\n",
        "plt.title(\"Training and test loss curves\")\n",
        "plt.ylabel(\"Loss\")\n",
        "plt.xlabel(\"Epochs\")\n",
        "plt.legend();"
      ],
      "metadata": {
        "colab": {
          "base_uri": "https://localhost:8080/",
          "height": 472
        },
        "id": "HMJtRzw05gPn",
        "outputId": "92d11e72-7d1b-47ec-fc8e-14ef07485eeb"
      },
      "execution_count": null,
      "outputs": [
        {
          "output_type": "display_data",
          "data": {
            "text/plain": [
              "<Figure size 640x480 with 1 Axes>"
            ],
            "image/png": "[encoded data removed]"
          },
          "metadata": {}
        }
      ]
    },
    {
      "cell_type": "markdown",
      "source": [
        "## Salvando o modelo em PyTorch\n",
        "\n",
        "Existem 3 métodos para salvar e abrir um modelo em PyTorch\n",
        "\n",
        "1. `torch.save()` - salva o modelo no formato pickle - https://docs.python.org/3/library/pickle.html\n",
        "2. `torch.load()` - abre o objeto PyTorch\n",
        "3. `torch.nn.Module.load_state_dict()` - permite que você abra um dicionário com o estado do seu modelo salvo"
      ],
      "metadata": {
        "id": "ytbxm7xD7rWl"
      }
    },
    {
      "cell_type": "code",
      "source": [
        "model_0.state_dict()"
      ],
      "metadata": {
        "colab": {
          "base_uri": "https://localhost:8080/"
        },
        "id": "uIQZTN9R6bmn",
        "outputId": "001ee293-f470-4875-ddfa-845d15374a28"
      },
      "execution_count": null,
      "outputs": [
        {
          "output_type": "execute_result",
          "data": {
            "text/plain": [
              "OrderedDict([('weights', tensor([0.6990])), ('bias', tensor([0.3093]))])"
            ]
          },
          "metadata": {},
          "execution_count": 45
        }
      ]
    },
    {
      "cell_type": "code",
      "source": [
        "# Saving our PyTorch state dict\n",
        "from pathlib import Path\n",
        "\n",
        "# 1. Create models directory\n",
        "MODEL_PATH = Path(\"models\")\n",
        "MODEL_PATH.mkdir(parents=True, exist_ok = True)\n",
        "\n",
        "# 2. Create model save path\n",
        "MODEL_NAME = \"01_pytorch_workflow_model_0.pth\"\n",
        "MODEL_SAVE_PATH = MODEL_PATH / MODEL_NAME\n",
        "#MODEL_SAVE_PATH\n",
        "\n",
        "# 3. Save the model state dict\n",
        "print(f\"Saving the model to: {MODEL_SAVE_PATH}\")\n",
        "torch.save(obj=model_0.state_dict(),\n",
        "           f=MODEL_SAVE_PATH)"
      ],
      "metadata": {
        "colab": {
          "base_uri": "https://localhost:8080/"
        },
        "id": "6Y6lkUu28gED",
        "outputId": "de550838-efec-4088-90a2-b4120c629b82"
      },
      "execution_count": null,
      "outputs": [
        {
          "output_type": "stream",
          "name": "stdout",
          "text": [
            "Saving the model to: models/01_pytorch_workflow_model_0.pth\n"
          ]
        }
      ]
    },
    {
      "cell_type": "code",
      "source": [
        "!ls -l models"
      ],
      "metadata": {
        "colab": {
          "base_uri": "https://localhost:8080/"
        },
        "id": "EPHBeaJb9J4f",
        "outputId": "c61e5b96-c455-4706-9321-c0fefea18756"
      },
      "execution_count": null,
      "outputs": [
        {
          "output_type": "stream",
          "name": "stdout",
          "text": [
            "total 4\n",
            "-rw-r--r-- 1 root root 1680 Nov 13 13:55 01_pytorch_workflow_model_0.pth\n"
          ]
        }
      ]
    },
    {
      "cell_type": "markdown",
      "source": [
        "# Abrindo um modelo PyTorch\n",
        "\n",
        "Como salvamos o `state_dict()` do nosso modelo, vamos criar uma nova instância do modelo e abrir o `state_dict()` na nova instância."
      ],
      "metadata": {
        "id": "SCVZp-q0-MN8"
      }
    },
    {
      "cell_type": "code",
      "source": [
        "model_0.state_dict()"
      ],
      "metadata": {
        "colab": {
          "base_uri": "https://localhost:8080/"
        },
        "id": "Io8nnti3-HDD",
        "outputId": "5874dee5-f2ae-4448-bfc0-22135546589a"
      },
      "execution_count": null,
      "outputs": [
        {
          "output_type": "execute_result",
          "data": {
            "text/plain": [
              "OrderedDict([('weights', tensor([0.6990])), ('bias', tensor([0.3093]))])"
            ]
          },
          "metadata": {},
          "execution_count": 50
        }
      ]
    },
    {
      "cell_type": "code",
      "source": [
        "# Para abrir no Colab um `state_dict` salvo nós vamos instanciar uma nova instância\n",
        "# da classe do nosso modelo\n",
        "loaded_model_0 = LinearRegressionModel()\n",
        "\n",
        "#loaded_model_0.state_dict()\n",
        "\n",
        "# Load the saved state_dict of model_) into loaded_model_0\n",
        "loaded_model_0.load_state_dict(torch.load(f=MODEL_SAVE_PATH))"
      ],
      "metadata": {
        "colab": {
          "base_uri": "https://localhost:8080/"
        },
        "id": "PCVKyWfa-nkI",
        "outputId": "f29bfd09-01e1-40a2-ce4a-762f1ae7549b"
      },
      "execution_count": null,
      "outputs": [
        {
          "output_type": "execute_result",
          "data": {
            "text/plain": [
              "<All keys matched successfully>"
            ]
          },
          "metadata": {},
          "execution_count": 52
        }
      ]
    },
    {
      "cell_type": "code",
      "source": [
        "loaded_model_0.state_dict()"
      ],
      "metadata": {
        "colab": {
          "base_uri": "https://localhost:8080/"
        },
        "id": "4rjCViL3-_O1",
        "outputId": "8660e4a7-d164-4b39-e7b0-5cd941bd1834"
      },
      "execution_count": null,
      "outputs": [
        {
          "output_type": "execute_result",
          "data": {
            "text/plain": [
              "OrderedDict([('weights', tensor([0.6990])), ('bias', tensor([0.3093]))])"
            ]
          },
          "metadata": {},
          "execution_count": 53
        }
      ]
    },
    {
      "cell_type": "code",
      "source": [
        "# Make some predictions with our loaded model\n",
        "loaded_model_0.eval()\n",
        "with torch.inference_mode():\n",
        "  loaded_model_preds = loaded_model_0(X_test)\n",
        "\n",
        "loaded_model_preds"
      ],
      "metadata": {
        "colab": {
          "base_uri": "https://localhost:8080/"
        },
        "id": "szMpF1cC_TeN",
        "outputId": "a124955d-7ee6-42ba-dffc-a0b7473997a3"
      },
      "execution_count": null,
      "outputs": [
        {
          "output_type": "execute_result",
          "data": {
            "text/plain": [
              "tensor([[0.8685],\n",
              "        [0.8825],\n",
              "        [0.8965],\n",
              "        [0.9105],\n",
              "        [0.9245],\n",
              "        [0.9384],\n",
              "        [0.9524],\n",
              "        [0.9664],\n",
              "        [0.9804],\n",
              "        [0.9944]])"
            ]
          },
          "metadata": {},
          "execution_count": 55
        }
      ]
    },
    {
      "cell_type": "code",
      "source": [
        "# Compare predictions\n",
        "y_preds_new == loaded_model_preds"
      ],
      "metadata": {
        "colab": {
          "base_uri": "https://localhost:8080/"
        },
        "id": "ONKzcH8q_ud2",
        "outputId": "79764433-b6f0-4bf4-ec24-b138a84a00a5"
      },
      "execution_count": null,
      "outputs": [
        {
          "output_type": "execute_result",
          "data": {
            "text/plain": [
              "tensor([[True],\n",
              "        [True],\n",
              "        [True],\n",
              "        [True],\n",
              "        [True],\n",
              "        [True],\n",
              "        [True],\n",
              "        [True],\n",
              "        [True],\n",
              "        [True]])"
            ]
          },
          "metadata": {},
          "execution_count": 56
        }
      ]
    },
    {
      "cell_type": "code",
      "source": [],
      "metadata": {
        "id": "0lfEVgOn_35r"
      },
      "execution_count": null,
      "outputs": []
    }
  ]
}